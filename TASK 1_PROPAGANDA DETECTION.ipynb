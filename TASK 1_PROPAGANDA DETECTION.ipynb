{
 "cells": [
  {
   "cell_type": "code",
   "execution_count": 1,
   "id": "03564c49-4e9c-4982-8cda-3dcad39614b5",
   "metadata": {},
   "outputs": [
    {
     "name": "stderr",
     "output_type": "stream",
     "text": [
      "[nltk_data] Downloading package stopwords to\n",
      "[nltk_data]     /Users/viveksajithasujan/nltk_data...\n",
      "[nltk_data]   Package stopwords is already up-to-date!\n",
      "[nltk_data] Downloading package punkt to\n",
      "[nltk_data]     /Users/viveksajithasujan/nltk_data...\n",
      "[nltk_data]   Package punkt is already up-to-date!\n"
     ]
    },
    {
     "data": {
      "text/plain": [
       "True"
      ]
     },
     "execution_count": 1,
     "metadata": {},
     "output_type": "execute_result"
    }
   ],
   "source": [
    "import pandas as pd\n",
    "import numpy as np\n",
    "from sklearn.feature_extraction.text import TfidfVectorizer\n",
    "from sklearn.linear_model import LogisticRegression\n",
    "from sklearn.model_selection import train_test_split\n",
    "from sklearn.preprocessing import LabelEncoder\n",
    "import re\n",
    "from nltk.tokenize import word_tokenize\n",
    "import nltk\n",
    "from transformers import BertTokenizer, BertForSequenceClassification, BertModel\n",
    "import torch\n",
    "from torch.optim import Adam\n",
    "from torch.utils.data import DataLoader, TensorDataset\n",
    "from sklearn.metrics import accuracy_score, precision_recall_fscore_support, classification_report\n",
    "from tqdm import tqdm\n",
    "import torch.nn as nn\n",
    "import warnings\n",
    "import matplotlib.pyplot as plt\n",
    "import seaborn as sns\n",
    "\n",
    "# ignoring all the future warnings\n",
    "warnings.simplefilter(action='ignore', category=FutureWarning)\n",
    "\n",
    "# Download NLTK resources\n",
    "nltk.download('stopwords')\n",
    "nltk.download('punkt')"
   ]
  },
  {
   "cell_type": "code",
   "execution_count": 2,
   "id": "33bac736-d8fe-4d2d-b196-c897fb33140d",
   "metadata": {},
   "outputs": [],
   "source": [
    "from sklearn.model_selection import train_test_split, GridSearchCV\n",
    "from sklearn.pipeline import Pipeline\n",
    "from sklearn.feature_extraction.text import CountVectorizer, TfidfVectorizer, TfidfTransformer\n",
    "from sklearn.naive_bayes import MultinomialNB\n",
    "from sklearn.metrics import accuracy_score, f1_score, classification_report, confusion_matrix"
   ]
  },
  {
   "cell_type": "code",
   "execution_count": 3,
   "id": "f7fa5771-d6d4-41a8-90be-81c0500b30fc",
   "metadata": {},
   "outputs": [],
   "source": [
    "def preprocess_text(text):\n",
    "    # Extract text within <BOS> and <EOS> tokens\n",
    "    match = re.search(r'<BOS>(.*?)<EOS>', text)\n",
    "    if match:\n",
    "        extracted_text = match.group(1)\n",
    "    else:\n",
    "        extracted_text = text\n",
    "    # Remove punctuation and special characters\n",
    "    extracted_text = re.sub(r\"[^\\w\\s]\", \"\", extracted_text)\n",
    "    # Lowercase the text\n",
    "    extracted_text = extracted_text.lower()\n",
    "    return extracted_text"
   ]
  },
  {
   "cell_type": "code",
   "execution_count": 4,
   "id": "165e91eb-260a-47bf-adb9-69971cd04d65",
   "metadata": {},
   "outputs": [
    {
     "data": {
      "text/html": [
       "<div>\n",
       "<style scoped>\n",
       "    .dataframe tbody tr th:only-of-type {\n",
       "        vertical-align: middle;\n",
       "    }\n",
       "\n",
       "    .dataframe tbody tr th {\n",
       "        vertical-align: top;\n",
       "    }\n",
       "\n",
       "    .dataframe thead th {\n",
       "        text-align: right;\n",
       "    }\n",
       "</style>\n",
       "<table border=\"1\" class=\"dataframe\">\n",
       "  <thead>\n",
       "    <tr style=\"text-align: right;\">\n",
       "      <th></th>\n",
       "      <th>label</th>\n",
       "      <th>tagged_in_context</th>\n",
       "    </tr>\n",
       "  </thead>\n",
       "  <tbody>\n",
       "    <tr>\n",
       "      <th>0</th>\n",
       "      <td>not_propaganda</td>\n",
       "      <td>No, &lt;BOS&gt; he &lt;EOS&gt; will not be confirmed.</td>\n",
       "    </tr>\n",
       "    <tr>\n",
       "      <th>1</th>\n",
       "      <td>not_propaganda</td>\n",
       "      <td>This declassification effort &lt;BOS&gt; won’t make ...</td>\n",
       "    </tr>\n",
       "    <tr>\n",
       "      <th>2</th>\n",
       "      <td>flag_waving</td>\n",
       "      <td>The Obama administration misled the &lt;BOS&gt; Amer...</td>\n",
       "    </tr>\n",
       "    <tr>\n",
       "      <th>3</th>\n",
       "      <td>not_propaganda</td>\n",
       "      <td>“It looks like we’re capturing the demise of t...</td>\n",
       "    </tr>\n",
       "    <tr>\n",
       "      <th>4</th>\n",
       "      <td>not_propaganda</td>\n",
       "      <td>&lt;BOS&gt; Location: Westerville, Ohio &lt;EOS&gt;</td>\n",
       "    </tr>\n",
       "  </tbody>\n",
       "</table>\n",
       "</div>"
      ],
      "text/plain": [
       "            label                                  tagged_in_context\n",
       "0  not_propaganda         No, <BOS> he <EOS> will not be confirmed. \n",
       "1  not_propaganda  This declassification effort <BOS> won’t make ...\n",
       "2     flag_waving  The Obama administration misled the <BOS> Amer...\n",
       "3  not_propaganda  “It looks like we’re capturing the demise of t...\n",
       "4  not_propaganda           <BOS> Location: Westerville, Ohio <EOS> "
      ]
     },
     "execution_count": 4,
     "metadata": {},
     "output_type": "execute_result"
    }
   ],
   "source": [
    "# Load the training and validation TSV files\n",
    "train_path = \"/Users/viveksajithasujan/Library/CloudStorage/OneDrive-UniversityofSussex/Term 2/Advanced NLP/Final Assignment/propaganda_dataset_v2/propaganda_train.tsv\"\n",
    "val_path = \"/Users/viveksajithasujan/Library/CloudStorage/OneDrive-UniversityofSussex/Term 2/Advanced NLP/Final Assignment/propaganda_dataset_v2/propaganda_val.tsv\"\n",
    "\n",
    "# Read the TSV files\n",
    "train_data = pd.read_csv(train_path, sep='\\t')\n",
    "test_data = pd.read_csv(val_path, sep='\\t')\n",
    "\n",
    "# Preview the first few rows of the training dataset\n",
    "train_data.head()"
   ]
  },
  {
   "cell_type": "code",
   "execution_count": 5,
   "id": "9c899a04-7ef6-4d07-92e0-b935b8ca5998",
   "metadata": {},
   "outputs": [],
   "source": [
    "# Drop rows where 'label' field is 'not_propaganda'\n",
    "train_data = train_data[train_data['label'] != 'not_propaganda']\n",
    "test_data = test_data[test_data['label'] != 'not_propaganda']\n",
    "\n",
    "def plot_outliers(X_train, X_val):\n",
    "    X_train_len = X_train.astype(str).apply(len)\n",
    "    X_val_len = X_val.astype(str).apply(len)\n",
    "    fig, axes = plt.subplots(nrows=1, ncols=2, figsize=(12, 6))\n",
    "    sns.boxplot(x=X_train_len, ax=axes[0])\n",
    "    axes[0].set_title(\"Train data length of sentences\")\n",
    "    sns.boxplot(x=X_val_len, ax=axes[1])\n",
    "    axes[1].set_title(\"Validation data length of sentences\")\n",
    "    plt.show()\n",
    "\n",
    "train_data.shape, test_data.shape"
   ]
  },
  {
   "cell_type": "code",
   "execution_count": 8,
   "id": "f03e59df-b04c-4193-b4b5-9a409c2340cc",
   "metadata": {},
   "outputs": [
    {
     "data": {
      "image/png": "[encoded data removed]",
      "text/plain": [
       "<Figure size 1200x600 with 2 Axes>"
      ]
     },
     "metadata": {},
     "output_type": "display_data"
    }
   ],
   "source": [
    "plot_outliers(train_data[\"tagged_in_context\"], test_data[\"tagged_in_context\"])"
   ]
  },
  {
   "cell_type": "code",
   "execution_count": 9,
   "id": "e7579429-d024-4235-9aa5-f2ddc78fdf53",
   "metadata": {},
   "outputs": [],
   "source": [
    "def remove_outliers(df, column, threshold=500):\n",
    "    lengths = df[column].astype(str).apply(len)\n",
    "    return df[lengths <= threshold]\n",
    "train_data = remove_outliers(train_data, 'tagged_in_context', 500)\n",
    "test_data = remove_outliers(test_data, 'tagged_in_context', 500)"
   ]
  },
  {
   "cell_type": "code",
   "execution_count": 10,
   "id": "24177dd2-0050-4a36-99fd-8aacabc2148f",
   "metadata": {},
   "outputs": [
    {
     "data": {
      "image/png": "[encoded data removed]",
      "text/plain": [
       "<Figure size 1200x600 with 2 Axes>"
      ]
     },
     "metadata": {},
     "output_type": "display_data"
    }
   ],
   "source": [
    "plot_outliers(train_data[\"tagged_in_context\"], test_data[\"tagged_in_context\"])"
   ]
  },
  {
   "cell_type": "code",
   "execution_count": 12,
   "id": "a57eddb9-afc8-4393-ae4a-0b623f313c97",
   "metadata": {},
   "outputs": [],
   "source": [
    "def plot_evaluation(y_val, y_pred):\n",
    "    fig, (ax1, ax2) = plt.subplots(ncols=2, figsize=(15, 6))\n",
    "    cm = confusion_matrix(y_val, y_pred)\n",
    "    sns.heatmap(cm, annot=True, fmt='d', cmap='Blues', xticklabels=np.unique(y_val), yticklabels=np.unique(y_val), ax=ax1)\n",
    "    ax1.set_xlabel('Predicted Labels')\n",
    "    ax1.set_ylabel('True Labels')\n",
    "    ax1.set_title('Confusion Matrix')\n",
    "    report = classification_report(y_val, y_pred, output_dict=True)\n",
    "    sns.heatmap(pd.DataFrame(report).iloc[:-1, :].T, annot=True, ax=ax2)\n",
    "    ax2.set_title('Classification Report')\n",
    "    plt.tight_layout()\n",
    "    plt.show()"
   ]
  },
  {
   "cell_type": "code",
   "execution_count": 13,
   "id": "6467602c-70a9-45ee-8c44-5ea483f43f27",
   "metadata": {},
   "outputs": [],
   "source": [
    "def train_and_evaluate(model, X_train, y_train, X_val, y_val, name=\"\"):\n",
    "    print(f\"Training and evaluating model: {model.__class__.__name__}\")\n",
    "    model.fit(X_train, y_train)\n",
    "    predictions = model.predict(X_val)\n",
    "    print(\"\\nAccuracy on validation data:\", accuracy_score(y_val, predictions))\n",
    "    print(\"\\nClassification Report:\")\n",
    "    print(classification_report(y_val, predictions))\n",
    "    plot_evaluation(y_val, predictions)"
   ]
  },
  {
   "cell_type": "code",
   "execution_count": 14,
   "id": "6a48667e-03a5-4b0c-b61c-f975c9f66153",
   "metadata": {},
   "outputs": [],
   "source": [
    "def tune_model(model, param_grid, X_train, y_train):\n",
    "    print(f\"Tuning model: {model.__class__.__name__}\")\n",
    "    grid_search = GridSearchCV(model, param_grid, cv=5, verbose=1, n_jobs=-1)\n",
    "    grid_search.fit(X_train, y_train)\n",
    "    print(\"Best parameters:\", grid_search.best_params_)\n",
    "    return grid_search.best_estimator_"
   ]
  },
  {
   "cell_type": "code",
   "execution_count": 15,
   "id": "b0285d4a-f517-45e7-855f-a78ca8c8acb7",
   "metadata": {},
   "outputs": [],
   "source": [
    "def compare_models(X_train_docs, y_train, X_val_docs, y_val, pipelines, param_grids, task=\"\"):\n",
    "    for name, pipeline in pipelines.items():\n",
    "        print(f\"\\n{name} - Before Tuning:\")\n",
    "        train_and_evaluate(pipeline, X_train_docs, y_train, X_val_docs, y_val, name=f\"{name}_Before_{task}\")\n",
    "        \n",
    "        print(f\"\\n{name} - After Tuning:\")\n",
    "        \n",
    "        best_model = tune_model(pipeline, param_grids[name], X_train_docs,y_train)\n",
    "        \n",
    "        train_and_evaluate(best_model, X_train_docs, y_train, X_val_docs, y_val, name=f\"{name}_After_{task}\")\n",
    "        "
   ]
  },
  {
   "cell_type": "code",
   "execution_count": 16,
   "id": "8b48a1dc-81c7-4511-87f9-1677128ece0a",
   "metadata": {},
   "outputs": [],
   "source": [
    "train_data['processed_sentence'] = train_data['tagged_in_context'].apply(preprocess_text)\n",
    "test_data['processed_sentence'] = test_data['tagged_in_context'].apply(preprocess_text)"
   ]
  },
  {
   "cell_type": "code",
   "execution_count": 17,
   "id": "c9b3c215-c28e-4739-9827-d08f0f1f86ee",
   "metadata": {},
   "outputs": [],
   "source": [
    "train_data['tokenized_sentence'] = train_data['processed_sentence'].apply(word_tokenize)\n",
    "test_data['tokenized_sentence'] = test_data['processed_sentence'].apply(word_tokenize)"
   ]
  },
  {
   "cell_type": "code",
   "execution_count": 18,
   "id": "7f030ec8-710d-4e00-b453-4f619346e8b8",
   "metadata": {},
   "outputs": [],
   "source": [
    "tfidf_vectorizer = TfidfVectorizer(max_features=2000)  # Adjust max_features as needed\n",
    "X_train = tfidf_vectorizer.fit_transform(train_data['processed_sentence'])\n",
    "X_test = tfidf_vectorizer.transform(test_data['processed_sentence'])"
   ]
  },
  {
   "cell_type": "code",
   "execution_count": 19,
   "id": "31441048-adbe-4ead-945a-c32e9f2fc44f",
   "metadata": {},
   "outputs": [],
   "source": [
    "# # Label encoding\n",
    "label_encoder = LabelEncoder()\n",
    "y_train = label_encoder.fit_transform(train_data['label'])\n",
    "y_test = label_encoder.transform(test_data['label'])"
   ]
  },
  {
   "cell_type": "code",
   "execution_count": 20,
   "id": "4bc95394-7d1f-4339-8ec3-c5f1895a3c22",
   "metadata": {},
   "outputs": [],
   "source": [
    "pipelines = { 'LogisticRegression':\n",
    "Pipeline([\n",
    "('clf', LogisticRegression(random_state=0, C = 0.001))\n",
    "]),\n",
    "'MultinomialNB': Pipeline([\n",
    "('clf', MultinomialNB(alpha = 0.001))\n",
    "])\n",
    "\n",
    "            }"
   ]
  },
  {
   "cell_type": "code",
   "execution_count": 21,
   "id": "1fe6c505-591b-42ca-8040-59cd1292aee6",
   "metadata": {},
   "outputs": [],
   "source": [
    "param_grids = {\n",
    "'LogisticRegression': {\n",
    "'clf__C': [0.001, 0.01, 0.1, 1, 10],\n",
    "'clf__penalty': ['l1', 'l2'],\n",
    "'clf__solver': ['newton-cg', 'lbfgs', 'liblinear', 'sag', 'saga'] #liblinear is good for small datasets and binary classification\n",
    "},\n",
    "'MultinomialNB': {\n",
    "'clf__alpha': [0.001, 0.01, 0.1, 1, 10]\n",
    "}}"
   ]
  },
  {
   "cell_type": "code",
   "execution_count": 48,
   "id": "8ed50f25-a4e2-4d63-b3cb-0118027c3b87",
   "metadata": {},
   "outputs": [
    {
     "data": {
      "text/plain": [
       "<275x2000 sparse matrix of type '<class 'numpy.float64'>'\n",
       "\twith 2127 stored elements in Compressed Sparse Row format>"
      ]
     },
     "execution_count": 48,
     "metadata": {},
     "output_type": "execute_result"
    }
   ],
   "source": [
    "X_test"
   ]
  },
  {
   "cell_type": "code",
   "execution_count": 50,
   "id": "8710735f-0908-4958-bfd6-627f326e63f4",
   "metadata": {},
   "outputs": [
    {
     "name": "stdout",
     "output_type": "stream",
     "text": [
      "0 → appeal_to_fear_prejudice\n",
      "1 → causal_oversimplification\n",
      "2 → doubt\n",
      "3 → exaggeration,minimisation\n",
      "4 → flag_waving\n",
      "5 → loaded_language\n",
      "6 → name_calling,labeling\n",
      "7 → repetition\n"
     ]
    }
   ],
   "source": [
    "# Get the mapping of labels to encoded values\n",
    "label_mapping = dict(zip(label_encoder.classes_, label_encoder.transform(label_encoder.classes_)))\n",
    "\n",
    "# Print the mapping\n",
    "for label, encoded in label_mapping.items():\n",
    "    print(f\"{encoded} → {label}\")"
   ]
  },
  {
   "cell_type": "code",
   "execution_count": 22,
   "id": "bf18e177-3868-4d17-ba95-f63a52cbb840",
   "metadata": {},
   "outputs": [
    {
     "name": "stdout",
     "output_type": "stream",
     "text": [
      "\n",
      "LogisticRegression - Before Tuning:\n",
      "Training and evaluating model: Pipeline\n",
      "\n",
      "Accuracy on validation data: 0.10181818181818182\n",
      "\n",
      "Classification Report:\n",
      "              precision    recall  f1-score   support\n",
      "\n",
      "           0       0.00      0.00      0.00        42\n",
      "           1       0.00      0.00      0.00        31\n",
      "           2       0.00      0.00      0.00        37\n",
      "           3       0.10      1.00      0.18        28\n",
      "           4       0.00      0.00      0.00        38\n",
      "           5       0.00      0.00      0.00        37\n",
      "           6       0.00      0.00      0.00        31\n",
      "           7       0.00      0.00      0.00        31\n",
      "\n",
      "    accuracy                           0.10       275\n",
      "   macro avg       0.01      0.12      0.02       275\n",
      "weighted avg       0.01      0.10      0.02       275\n",
      "\n"
     ]
    },
    {
     "name": "stderr",
     "output_type": "stream",
     "text": [
      "/opt/anaconda3/lib/python3.12/site-packages/sklearn/metrics/_classification.py:1509: UndefinedMetricWarning: Precision is ill-defined and being set to 0.0 in labels with no predicted samples. Use `zero_division` parameter to control this behavior.\n",
      "  _warn_prf(average, modifier, f\"{metric.capitalize()} is\", len(result))\n",
      "/opt/anaconda3/lib/python3.12/site-packages/sklearn/metrics/_classification.py:1509: UndefinedMetricWarning: Precision is ill-defined and being set to 0.0 in labels with no predicted samples. Use `zero_division` parameter to control this behavior.\n",
      "  _warn_prf(average, modifier, f\"{metric.capitalize()} is\", len(result))\n",
      "/opt/anaconda3/lib/python3.12/site-packages/sklearn/metrics/_classification.py:1509: UndefinedMetricWarning: Precision is ill-defined and being set to 0.0 in labels with no predicted samples. Use `zero_division` parameter to control this behavior.\n",
      "  _warn_prf(average, modifier, f\"{metric.capitalize()} is\", len(result))\n",
      "/opt/anaconda3/lib/python3.12/site-packages/sklearn/metrics/_classification.py:1509: UndefinedMetricWarning: Precision is ill-defined and being set to 0.0 in labels with no predicted samples. Use `zero_division` parameter to control this behavior.\n",
      "  _warn_prf(average, modifier, f\"{metric.capitalize()} is\", len(result))\n",
      "/opt/anaconda3/lib/python3.12/site-packages/sklearn/metrics/_classification.py:1509: UndefinedMetricWarning: Precision is ill-defined and being set to 0.0 in labels with no predicted samples. Use `zero_division` parameter to control this behavior.\n",
      "  _warn_prf(average, modifier, f\"{metric.capitalize()} is\", len(result))\n",
      "/opt/anaconda3/lib/python3.12/site-packages/sklearn/metrics/_classification.py:1509: UndefinedMetricWarning: Precision is ill-defined and being set to 0.0 in labels with no predicted samples. Use `zero_division` parameter to control this behavior.\n",
      "  _warn_prf(average, modifier, f\"{metric.capitalize()} is\", len(result))\n"
     ]
    },
    {
     "data": {
      "image/png": "[encoded data removed]",
      "text/plain": [
       "<Figure size 1500x600 with 4 Axes>"
      ]
     },
     "metadata": {},
     "output_type": "display_data"
    },
    {
     "name": "stdout",
     "output_type": "stream",
     "text": [
      "\n",
      "LogisticRegression - After Tuning:\n",
      "Tuning model: Pipeline\n",
      "Fitting 5 folds for each of 50 candidates, totalling 250 fits\n"
     ]
    },
    {
     "name": "stderr",
     "output_type": "stream",
     "text": [
      "/opt/anaconda3/lib/python3.12/site-packages/sklearn/svm/_base.py:1237: ConvergenceWarning: Liblinear failed to converge, increase the number of iterations.\n",
      "  warnings.warn(\n",
      "/opt/anaconda3/lib/python3.12/site-packages/sklearn/svm/_base.py:1237: ConvergenceWarning: Liblinear failed to converge, increase the number of iterations.\n",
      "  warnings.warn(\n",
      "/opt/anaconda3/lib/python3.12/site-packages/sklearn/svm/_base.py:1237: ConvergenceWarning: Liblinear failed to converge, increase the number of iterations.\n",
      "  warnings.warn(\n",
      "/opt/anaconda3/lib/python3.12/site-packages/sklearn/svm/_base.py:1237: ConvergenceWarning: Liblinear failed to converge, increase the number of iterations.\n",
      "  warnings.warn(\n",
      "/opt/anaconda3/lib/python3.12/site-packages/sklearn/linear_model/_sag.py:350: ConvergenceWarning: The max_iter was reached which means the coef_ did not converge\n",
      "  warnings.warn(\n",
      "/opt/anaconda3/lib/python3.12/site-packages/sklearn/linear_model/_sag.py:350: ConvergenceWarning: The max_iter was reached which means the coef_ did not converge\n",
      "  warnings.warn(\n",
      "/opt/anaconda3/lib/python3.12/site-packages/sklearn/linear_model/_sag.py:350: ConvergenceWarning: The max_iter was reached which means the coef_ did not converge\n",
      "  warnings.warn(\n",
      "/opt/anaconda3/lib/python3.12/site-packages/sklearn/linear_model/_sag.py:350: ConvergenceWarning: The max_iter was reached which means the coef_ did not converge\n",
      "  warnings.warn(\n",
      "/opt/anaconda3/lib/python3.12/site-packages/sklearn/linear_model/_sag.py:350: ConvergenceWarning: The max_iter was reached which means the coef_ did not converge\n",
      "  warnings.warn(\n",
      "/opt/anaconda3/lib/python3.12/site-packages/sklearn/linear_model/_sag.py:350: ConvergenceWarning: The max_iter was reached which means the coef_ did not converge\n",
      "  warnings.warn(\n",
      "/opt/anaconda3/lib/python3.12/site-packages/sklearn/linear_model/_sag.py:350: ConvergenceWarning: The max_iter was reached which means the coef_ did not converge\n",
      "  warnings.warn(\n",
      "/opt/anaconda3/lib/python3.12/site-packages/sklearn/linear_model/_sag.py:350: ConvergenceWarning: The max_iter was reached which means the coef_ did not converge\n",
      "  warnings.warn(\n",
      "/opt/anaconda3/lib/python3.12/site-packages/sklearn/linear_model/_sag.py:350: ConvergenceWarning: The max_iter was reached which means the coef_ did not converge\n",
      "  warnings.warn(\n",
      "/opt/anaconda3/lib/python3.12/site-packages/sklearn/linear_model/_sag.py:350: ConvergenceWarning: The max_iter was reached which means the coef_ did not converge\n",
      "  warnings.warn(\n",
      "/opt/anaconda3/lib/python3.12/site-packages/sklearn/linear_model/_sag.py:350: ConvergenceWarning: The max_iter was reached which means the coef_ did not converge\n",
      "  warnings.warn(\n",
      "/opt/anaconda3/lib/python3.12/site-packages/sklearn/model_selection/_validation.py:547: FitFailedWarning: \n",
      "75 fits failed out of a total of 250.\n",
      "The score on these train-test partitions for these parameters will be set to nan.\n",
      "If these failures are not expected, you can try to debug them by setting error_score='raise'.\n",
      "\n",
      "Below are more details about the failures:\n",
      "--------------------------------------------------------------------------------\n",
      "25 fits failed with the following error:\n",
      "Traceback (most recent call last):\n",
      "  File \"/opt/anaconda3/lib/python3.12/site-packages/sklearn/model_selection/_validation.py\", line 895, in _fit_and_score\n",
      "    estimator.fit(X_train, y_train, **fit_params)\n",
      "  File \"/opt/anaconda3/lib/python3.12/site-packages/sklearn/base.py\", line 1474, in wrapper\n",
      "    return fit_method(estimator, *args, **kwargs)\n",
      "           ^^^^^^^^^^^^^^^^^^^^^^^^^^^^^^^^^^^^^^\n",
      "  File \"/opt/anaconda3/lib/python3.12/site-packages/sklearn/pipeline.py\", line 475, in fit\n",
      "    self._final_estimator.fit(Xt, y, **last_step_params[\"fit\"])\n",
      "  File \"/opt/anaconda3/lib/python3.12/site-packages/sklearn/base.py\", line 1474, in wrapper\n",
      "    return fit_method(estimator, *args, **kwargs)\n",
      "           ^^^^^^^^^^^^^^^^^^^^^^^^^^^^^^^^^^^^^^\n",
      "  File \"/opt/anaconda3/lib/python3.12/site-packages/sklearn/linear_model/_logistic.py\", line 1172, in fit\n",
      "    solver = _check_solver(self.solver, self.penalty, self.dual)\n",
      "             ^^^^^^^^^^^^^^^^^^^^^^^^^^^^^^^^^^^^^^^^^^^^^^^^^^^\n",
      "  File \"/opt/anaconda3/lib/python3.12/site-packages/sklearn/linear_model/_logistic.py\", line 67, in _check_solver\n",
      "    raise ValueError(\n",
      "ValueError: Solver newton-cg supports only 'l2' or None penalties, got l1 penalty.\n",
      "\n",
      "--------------------------------------------------------------------------------\n",
      "25 fits failed with the following error:\n",
      "Traceback (most recent call last):\n",
      "  File \"/opt/anaconda3/lib/python3.12/site-packages/sklearn/model_selection/_validation.py\", line 895, in _fit_and_score\n",
      "    estimator.fit(X_train, y_train, **fit_params)\n",
      "  File \"/opt/anaconda3/lib/python3.12/site-packages/sklearn/base.py\", line 1474, in wrapper\n",
      "    return fit_method(estimator, *args, **kwargs)\n",
      "           ^^^^^^^^^^^^^^^^^^^^^^^^^^^^^^^^^^^^^^\n",
      "  File \"/opt/anaconda3/lib/python3.12/site-packages/sklearn/pipeline.py\", line 475, in fit\n",
      "    self._final_estimator.fit(Xt, y, **last_step_params[\"fit\"])\n",
      "  File \"/opt/anaconda3/lib/python3.12/site-packages/sklearn/base.py\", line 1474, in wrapper\n",
      "    return fit_method(estimator, *args, **kwargs)\n",
      "           ^^^^^^^^^^^^^^^^^^^^^^^^^^^^^^^^^^^^^^\n",
      "  File \"/opt/anaconda3/lib/python3.12/site-packages/sklearn/linear_model/_logistic.py\", line 1172, in fit\n",
      "    solver = _check_solver(self.solver, self.penalty, self.dual)\n",
      "             ^^^^^^^^^^^^^^^^^^^^^^^^^^^^^^^^^^^^^^^^^^^^^^^^^^^\n",
      "  File \"/opt/anaconda3/lib/python3.12/site-packages/sklearn/linear_model/_logistic.py\", line 67, in _check_solver\n",
      "    raise ValueError(\n",
      "ValueError: Solver lbfgs supports only 'l2' or None penalties, got l1 penalty.\n",
      "\n",
      "--------------------------------------------------------------------------------\n",
      "25 fits failed with the following error:\n",
      "Traceback (most recent call last):\n",
      "  File \"/opt/anaconda3/lib/python3.12/site-packages/sklearn/model_selection/_validation.py\", line 895, in _fit_and_score\n",
      "    estimator.fit(X_train, y_train, **fit_params)\n",
      "  File \"/opt/anaconda3/lib/python3.12/site-packages/sklearn/base.py\", line 1474, in wrapper\n",
      "    return fit_method(estimator, *args, **kwargs)\n",
      "           ^^^^^^^^^^^^^^^^^^^^^^^^^^^^^^^^^^^^^^\n",
      "  File \"/opt/anaconda3/lib/python3.12/site-packages/sklearn/pipeline.py\", line 475, in fit\n",
      "    self._final_estimator.fit(Xt, y, **last_step_params[\"fit\"])\n",
      "  File \"/opt/anaconda3/lib/python3.12/site-packages/sklearn/base.py\", line 1474, in wrapper\n",
      "    return fit_method(estimator, *args, **kwargs)\n",
      "           ^^^^^^^^^^^^^^^^^^^^^^^^^^^^^^^^^^^^^^\n",
      "  File \"/opt/anaconda3/lib/python3.12/site-packages/sklearn/linear_model/_logistic.py\", line 1172, in fit\n",
      "    solver = _check_solver(self.solver, self.penalty, self.dual)\n",
      "             ^^^^^^^^^^^^^^^^^^^^^^^^^^^^^^^^^^^^^^^^^^^^^^^^^^^\n",
      "  File \"/opt/anaconda3/lib/python3.12/site-packages/sklearn/linear_model/_logistic.py\", line 67, in _check_solver\n",
      "    raise ValueError(\n",
      "ValueError: Solver sag supports only 'l2' or None penalties, got l1 penalty.\n",
      "\n",
      "  warnings.warn(some_fits_failed_message, FitFailedWarning)\n",
      "/opt/anaconda3/lib/python3.12/site-packages/sklearn/model_selection/_search.py:1051: UserWarning: One or more of the test scores are non-finite: [       nan        nan 0.12416667        nan 0.1225     0.13666667\n",
      " 0.13666667 0.145      0.13666667 0.13666667        nan        nan\n",
      " 0.13666667        nan 0.12666667 0.1425     0.1425     0.20916667\n",
      " 0.1425     0.14333333        nan        nan 0.16416667        nan\n",
      " 0.16666667 0.4025     0.4025     0.41083333 0.4025     0.4075\n",
      "        nan        nan 0.36916667        nan 0.3725     0.47916667\n",
      " 0.47833333 0.4775     0.47916667 0.47666667        nan        nan\n",
      " 0.4475            nan 0.46416667 0.47916667 0.48       0.48\n",
      " 0.47916667 0.4775    ]\n",
      "  warnings.warn(\n"
     ]
    },
    {
     "name": "stdout",
     "output_type": "stream",
     "text": [
      "Best parameters: {'clf__C': 10, 'clf__penalty': 'l2', 'clf__solver': 'lbfgs'}\n",
      "Training and evaluating model: Pipeline\n",
      "\n",
      "Accuracy on validation data: 0.4690909090909091\n",
      "\n",
      "Classification Report:\n",
      "              precision    recall  f1-score   support\n",
      "\n",
      "           0       0.50      0.52      0.51        42\n",
      "           1       0.38      0.48      0.42        31\n",
      "           2       0.37      0.43      0.40        37\n",
      "           3       0.38      0.43      0.40        28\n",
      "           4       0.77      0.61      0.68        38\n",
      "           5       0.41      0.54      0.47        37\n",
      "           6       0.53      0.32      0.40        31\n",
      "           7       0.61      0.35      0.45        31\n",
      "\n",
      "    accuracy                           0.47       275\n",
      "   macro avg       0.49      0.46      0.47       275\n",
      "weighted avg       0.50      0.47      0.47       275\n",
      "\n"
     ]
    },
    {
     "data": {
      "image/png": "[encoded data removed]",
      "text/plain": [
       "<Figure size 1500x600 with 4 Axes>"
      ]
     },
     "metadata": {},
     "output_type": "display_data"
    },
    {
     "name": "stdout",
     "output_type": "stream",
     "text": [
      "\n",
      "MultinomialNB - Before Tuning:\n",
      "Training and evaluating model: Pipeline\n",
      "\n",
      "Accuracy on validation data: 0.4\n",
      "\n",
      "Classification Report:\n",
      "              precision    recall  f1-score   support\n",
      "\n",
      "           0       0.48      0.55      0.51        42\n",
      "           1       0.31      0.48      0.38        31\n",
      "           2       0.37      0.46      0.41        37\n",
      "           3       0.22      0.46      0.30        28\n",
      "           4       0.56      0.47      0.51        38\n",
      "           5       0.50      0.16      0.24        37\n",
      "           6       0.50      0.23      0.31        31\n",
      "           7       0.69      0.35      0.47        31\n",
      "\n",
      "    accuracy                           0.40       275\n",
      "   macro avg       0.45      0.40      0.39       275\n",
      "weighted avg       0.46      0.40      0.40       275\n",
      "\n"
     ]
    },
    {
     "data": {
      "image/png": "[encoded data removed]",
      "text/plain": [
       "<Figure size 1500x600 with 4 Axes>"
      ]
     },
     "metadata": {},
     "output_type": "display_data"
    },
    {
     "name": "stdout",
     "output_type": "stream",
     "text": [
      "\n",
      "MultinomialNB - After Tuning:\n",
      "Tuning model: Pipeline\n",
      "Fitting 5 folds for each of 5 candidates, totalling 25 fits\n",
      "Best parameters: {'clf__alpha': 0.1}\n",
      "Training and evaluating model: Pipeline\n",
      "\n",
      "Accuracy on validation data: 0.4036363636363636\n",
      "\n",
      "Classification Report:\n",
      "              precision    recall  f1-score   support\n",
      "\n",
      "           0       0.53      0.55      0.54        42\n",
      "           1       0.29      0.48      0.36        31\n",
      "           2       0.34      0.43      0.38        37\n",
      "           3       0.21      0.43      0.29        28\n",
      "           4       0.67      0.58      0.62        38\n",
      "           5       0.40      0.16      0.23        37\n",
      "           6       0.53      0.26      0.35        31\n",
      "           7       0.64      0.29      0.40        31\n",
      "\n",
      "    accuracy                           0.40       275\n",
      "   macro avg       0.45      0.40      0.40       275\n",
      "weighted avg       0.46      0.40      0.40       275\n",
      "\n"
     ]
    },
    {
     "data": {
      "image/png": "[encoded data removed]",
      "text/plain": [
       "<Figure size 1500x600 with 4 Axes>"
      ]
     },
     "metadata": {},
     "output_type": "display_data"
    }
   ],
   "source": [
    "compare_models(X_train, y_train,\n",
    "X_test, y_test,\n",
    "pipelines, param_grids, task=\"21\")"
   ]
  },
  {
   "cell_type": "markdown",
   "id": "a2ce0400-3114-4b36-87ab-12daab14083a",
   "metadata": {},
   "source": [
    "## Using Bert"
   ]
  },
  {
   "cell_type": "code",
   "execution_count": 24,
   "id": "c7884d10-4487-40c1-8e31-b23a1d79c763",
   "metadata": {},
   "outputs": [
    {
     "data": {
      "text/html": [
       "<div>\n",
       "<style scoped>\n",
       "    .dataframe tbody tr th:only-of-type {\n",
       "        vertical-align: middle;\n",
       "    }\n",
       "\n",
       "    .dataframe tbody tr th {\n",
       "        vertical-align: top;\n",
       "    }\n",
       "\n",
       "    .dataframe thead th {\n",
       "        text-align: right;\n",
       "    }\n",
       "</style>\n",
       "<table border=\"1\" class=\"dataframe\">\n",
       "  <thead>\n",
       "    <tr style=\"text-align: right;\">\n",
       "      <th></th>\n",
       "      <th>label</th>\n",
       "      <th>tagged_in_context</th>\n",
       "      <th>processed_sentence</th>\n",
       "      <th>tokenized_sentence</th>\n",
       "    </tr>\n",
       "  </thead>\n",
       "  <tbody>\n",
       "    <tr>\n",
       "      <th>2</th>\n",
       "      <td>flag_waving</td>\n",
       "      <td>The Obama administration misled the &lt;BOS&gt; Amer...</td>\n",
       "      <td>american people</td>\n",
       "      <td>[american, people]</td>\n",
       "    </tr>\n",
       "    <tr>\n",
       "      <th>5</th>\n",
       "      <td>loaded_language</td>\n",
       "      <td>Hitler &lt;BOS&gt; annihilated &lt;EOS&gt; 400,000 Germans...</td>\n",
       "      <td>annihilated</td>\n",
       "      <td>[annihilated]</td>\n",
       "    </tr>\n",
       "    <tr>\n",
       "      <th>8</th>\n",
       "      <td>doubt</td>\n",
       "      <td>As noted above, at this point literally every ...</td>\n",
       "      <td>socalled evidence</td>\n",
       "      <td>[socalled, evidence]</td>\n",
       "    </tr>\n",
       "    <tr>\n",
       "      <th>10</th>\n",
       "      <td>name_calling,labeling</td>\n",
       "      <td>His account was suspended for violating Twitte...</td>\n",
       "      <td>hateful conduct</td>\n",
       "      <td>[hateful, conduct]</td>\n",
       "    </tr>\n",
       "    <tr>\n",
       "      <th>12</th>\n",
       "      <td>appeal_to_fear_prejudice</td>\n",
       "      <td>A couple of seemingly unrelated events this pa...</td>\n",
       "      <td>point to irans positioning itself for more ag...</td>\n",
       "      <td>[point, to, irans, positioning, itself, for, m...</td>\n",
       "    </tr>\n",
       "    <tr>\n",
       "      <th>...</th>\n",
       "      <td>...</td>\n",
       "      <td>...</td>\n",
       "      <td>...</td>\n",
       "      <td>...</td>\n",
       "    </tr>\n",
       "    <tr>\n",
       "      <th>2403</th>\n",
       "      <td>repetition</td>\n",
       "      <td>You might think that would have cured him of f...</td>\n",
       "      <td>nazi</td>\n",
       "      <td>[nazi]</td>\n",
       "    </tr>\n",
       "    <tr>\n",
       "      <th>2405</th>\n",
       "      <td>exaggeration,minimisation</td>\n",
       "      <td>“I would like to take this opportunity to make...</td>\n",
       "      <td>absolutely no place for antisemitism</td>\n",
       "      <td>[absolutely, no, place, for, antisemitism]</td>\n",
       "    </tr>\n",
       "    <tr>\n",
       "      <th>2406</th>\n",
       "      <td>flag_waving</td>\n",
       "      <td>Trump To Jeff Sessions: Put An End to Russia P...</td>\n",
       "      <td>prosecutors doing muellers dirty work are a d...</td>\n",
       "      <td>[prosecutors, doing, muellers, dirty, work, ar...</td>\n",
       "    </tr>\n",
       "    <tr>\n",
       "      <th>2407</th>\n",
       "      <td>causal_oversimplification</td>\n",
       "      <td>&lt;BOS&gt; Neither the Democrat leadership nor the ...</td>\n",
       "      <td>neither the democrat leadership nor the democ...</td>\n",
       "      <td>[neither, the, democrat, leadership, nor, the,...</td>\n",
       "    </tr>\n",
       "    <tr>\n",
       "      <th>2413</th>\n",
       "      <td>name_calling,labeling</td>\n",
       "      <td>In it, Jews are described as: “arrogant,” “jea...</td>\n",
       "      <td>selfish</td>\n",
       "      <td>[selfish]</td>\n",
       "    </tr>\n",
       "  </tbody>\n",
       "</table>\n",
       "<p>1200 rows × 4 columns</p>\n",
       "</div>"
      ],
      "text/plain": [
       "                          label  \\\n",
       "2                   flag_waving   \n",
       "5               loaded_language   \n",
       "8                         doubt   \n",
       "10        name_calling,labeling   \n",
       "12     appeal_to_fear_prejudice   \n",
       "...                         ...   \n",
       "2403                 repetition   \n",
       "2405  exaggeration,minimisation   \n",
       "2406                flag_waving   \n",
       "2407  causal_oversimplification   \n",
       "2413      name_calling,labeling   \n",
       "\n",
       "                                      tagged_in_context  \\\n",
       "2     The Obama administration misled the <BOS> Amer...   \n",
       "5     Hitler <BOS> annihilated <EOS> 400,000 Germans...   \n",
       "8     As noted above, at this point literally every ...   \n",
       "10    His account was suspended for violating Twitte...   \n",
       "12    A couple of seemingly unrelated events this pa...   \n",
       "...                                                 ...   \n",
       "2403  You might think that would have cured him of f...   \n",
       "2405  “I would like to take this opportunity to make...   \n",
       "2406  Trump To Jeff Sessions: Put An End to Russia P...   \n",
       "2407  <BOS> Neither the Democrat leadership nor the ...   \n",
       "2413  In it, Jews are described as: “arrogant,” “jea...   \n",
       "\n",
       "                                     processed_sentence  \\\n",
       "2                                      american people    \n",
       "5                                          annihilated    \n",
       "8                                    socalled evidence    \n",
       "10                                     hateful conduct    \n",
       "12     point to irans positioning itself for more ag...   \n",
       "...                                                 ...   \n",
       "2403                                              nazi    \n",
       "2405              absolutely no place for antisemitism    \n",
       "2406   prosecutors doing muellers dirty work are a d...   \n",
       "2407   neither the democrat leadership nor the democ...   \n",
       "2413                                           selfish    \n",
       "\n",
       "                                     tokenized_sentence  \n",
       "2                                    [american, people]  \n",
       "5                                         [annihilated]  \n",
       "8                                  [socalled, evidence]  \n",
       "10                                   [hateful, conduct]  \n",
       "12    [point, to, irans, positioning, itself, for, m...  \n",
       "...                                                 ...  \n",
       "2403                                             [nazi]  \n",
       "2405         [absolutely, no, place, for, antisemitism]  \n",
       "2406  [prosecutors, doing, muellers, dirty, work, ar...  \n",
       "2407  [neither, the, democrat, leadership, nor, the,...  \n",
       "2413                                          [selfish]  \n",
       "\n",
       "[1200 rows x 4 columns]"
      ]
     },
     "execution_count": 24,
     "metadata": {},
     "output_type": "execute_result"
    }
   ],
   "source": [
    "train_data"
   ]
  },
  {
   "cell_type": "code",
   "execution_count": 25,
   "id": "bbe70933-6bea-438d-9105-26a8ce20c3d7",
   "metadata": {},
   "outputs": [],
   "source": [
    "class BertClassifier(nn.Module):\n",
    "    \n",
    "    def __init__(self, dropout=dropouts, num_classes=2):\n",
    "        super(BertClassifier, self).__init__()\n",
    "        self.bert = BertModel.from_pretrained('bert-base-uncased')\n",
    "        self.dropout = nn.Dropout(dropout)\n",
    "        self.linear = nn.Linear(768, num_classes)\n",
    "        self.relu = nn.ReLU()\n",
    "        \n",
    "    def forward(self, input_ids, attention_mask=None, **kwargs):\n",
    "        last_hidden_layer, pooled_output = self.bert(input_ids=input_ids, attention_mask=attention_mask, return_dict=False)\n",
    "        dropout_output = self.dropout(pooled_output)\n",
    "        linear_output = self.linear(dropout_output)\n",
    "        final_layer = self.relu(linear_output)\n",
    "        return final_layer"
   ]
  },
  {
   "cell_type": "code",
   "execution_count": 56,
   "id": "40835425-f340-4c4f-b0b9-5569eb375f9a",
   "metadata": {},
   "outputs": [
    {
     "data": {
      "text/html": [
       "<div>\n",
       "<style scoped>\n",
       "    .dataframe tbody tr th:only-of-type {\n",
       "        vertical-align: middle;\n",
       "    }\n",
       "\n",
       "    .dataframe tbody tr th {\n",
       "        vertical-align: top;\n",
       "    }\n",
       "\n",
       "    .dataframe thead th {\n",
       "        text-align: right;\n",
       "    }\n",
       "</style>\n",
       "<table border=\"1\" class=\"dataframe\">\n",
       "  <thead>\n",
       "    <tr style=\"text-align: right;\">\n",
       "      <th></th>\n",
       "      <th>label</th>\n",
       "      <th>tagged_in_context</th>\n",
       "      <th>processed_sentence</th>\n",
       "      <th>tokenized_sentence</th>\n",
       "    </tr>\n",
       "  </thead>\n",
       "  <tbody>\n",
       "    <tr>\n",
       "      <th>2</th>\n",
       "      <td>flag_waving</td>\n",
       "      <td>The Obama administration misled the &lt;BOS&gt; Amer...</td>\n",
       "      <td>american people</td>\n",
       "      <td>[american, people]</td>\n",
       "    </tr>\n",
       "    <tr>\n",
       "      <th>5</th>\n",
       "      <td>loaded_language</td>\n",
       "      <td>Hitler &lt;BOS&gt; annihilated &lt;EOS&gt; 400,000 Germans...</td>\n",
       "      <td>annihilated</td>\n",
       "      <td>[annihilated]</td>\n",
       "    </tr>\n",
       "    <tr>\n",
       "      <th>8</th>\n",
       "      <td>doubt</td>\n",
       "      <td>As noted above, at this point literally every ...</td>\n",
       "      <td>socalled evidence</td>\n",
       "      <td>[socalled, evidence]</td>\n",
       "    </tr>\n",
       "    <tr>\n",
       "      <th>10</th>\n",
       "      <td>name_calling,labeling</td>\n",
       "      <td>His account was suspended for violating Twitte...</td>\n",
       "      <td>hateful conduct</td>\n",
       "      <td>[hateful, conduct]</td>\n",
       "    </tr>\n",
       "    <tr>\n",
       "      <th>12</th>\n",
       "      <td>appeal_to_fear_prejudice</td>\n",
       "      <td>A couple of seemingly unrelated events this pa...</td>\n",
       "      <td>point to irans positioning itself for more ag...</td>\n",
       "      <td>[point, to, irans, positioning, itself, for, m...</td>\n",
       "    </tr>\n",
       "    <tr>\n",
       "      <th>...</th>\n",
       "      <td>...</td>\n",
       "      <td>...</td>\n",
       "      <td>...</td>\n",
       "      <td>...</td>\n",
       "    </tr>\n",
       "    <tr>\n",
       "      <th>2403</th>\n",
       "      <td>repetition</td>\n",
       "      <td>You might think that would have cured him of f...</td>\n",
       "      <td>nazi</td>\n",
       "      <td>[nazi]</td>\n",
       "    </tr>\n",
       "    <tr>\n",
       "      <th>2405</th>\n",
       "      <td>exaggeration,minimisation</td>\n",
       "      <td>“I would like to take this opportunity to make...</td>\n",
       "      <td>absolutely no place for antisemitism</td>\n",
       "      <td>[absolutely, no, place, for, antisemitism]</td>\n",
       "    </tr>\n",
       "    <tr>\n",
       "      <th>2406</th>\n",
       "      <td>flag_waving</td>\n",
       "      <td>Trump To Jeff Sessions: Put An End to Russia P...</td>\n",
       "      <td>prosecutors doing muellers dirty work are a d...</td>\n",
       "      <td>[prosecutors, doing, muellers, dirty, work, ar...</td>\n",
       "    </tr>\n",
       "    <tr>\n",
       "      <th>2407</th>\n",
       "      <td>causal_oversimplification</td>\n",
       "      <td>&lt;BOS&gt; Neither the Democrat leadership nor the ...</td>\n",
       "      <td>neither the democrat leadership nor the democ...</td>\n",
       "      <td>[neither, the, democrat, leadership, nor, the,...</td>\n",
       "    </tr>\n",
       "    <tr>\n",
       "      <th>2413</th>\n",
       "      <td>name_calling,labeling</td>\n",
       "      <td>In it, Jews are described as: “arrogant,” “jea...</td>\n",
       "      <td>selfish</td>\n",
       "      <td>[selfish]</td>\n",
       "    </tr>\n",
       "  </tbody>\n",
       "</table>\n",
       "<p>1200 rows × 4 columns</p>\n",
       "</div>"
      ],
      "text/plain": [
       "                          label  \\\n",
       "2                   flag_waving   \n",
       "5               loaded_language   \n",
       "8                         doubt   \n",
       "10        name_calling,labeling   \n",
       "12     appeal_to_fear_prejudice   \n",
       "...                         ...   \n",
       "2403                 repetition   \n",
       "2405  exaggeration,minimisation   \n",
       "2406                flag_waving   \n",
       "2407  causal_oversimplification   \n",
       "2413      name_calling,labeling   \n",
       "\n",
       "                                      tagged_in_context  \\\n",
       "2     The Obama administration misled the <BOS> Amer...   \n",
       "5     Hitler <BOS> annihilated <EOS> 400,000 Germans...   \n",
       "8     As noted above, at this point literally every ...   \n",
       "10    His account was suspended for violating Twitte...   \n",
       "12    A couple of seemingly unrelated events this pa...   \n",
       "...                                                 ...   \n",
       "2403  You might think that would have cured him of f...   \n",
       "2405  “I would like to take this opportunity to make...   \n",
       "2406  Trump To Jeff Sessions: Put An End to Russia P...   \n",
       "2407  <BOS> Neither the Democrat leadership nor the ...   \n",
       "2413  In it, Jews are described as: “arrogant,” “jea...   \n",
       "\n",
       "                                     processed_sentence  \\\n",
       "2                                      american people    \n",
       "5                                          annihilated    \n",
       "8                                    socalled evidence    \n",
       "10                                     hateful conduct    \n",
       "12     point to irans positioning itself for more ag...   \n",
       "...                                                 ...   \n",
       "2403                                              nazi    \n",
       "2405              absolutely no place for antisemitism    \n",
       "2406   prosecutors doing muellers dirty work are a d...   \n",
       "2407   neither the democrat leadership nor the democ...   \n",
       "2413                                           selfish    \n",
       "\n",
       "                                     tokenized_sentence  \n",
       "2                                    [american, people]  \n",
       "5                                         [annihilated]  \n",
       "8                                  [socalled, evidence]  \n",
       "10                                   [hateful, conduct]  \n",
       "12    [point, to, irans, positioning, itself, for, m...  \n",
       "...                                                 ...  \n",
       "2403                                             [nazi]  \n",
       "2405         [absolutely, no, place, for, antisemitism]  \n",
       "2406  [prosecutors, doing, muellers, dirty, work, ar...  \n",
       "2407  [neither, the, democrat, leadership, nor, the,...  \n",
       "2413                                          [selfish]  \n",
       "\n",
       "[1200 rows x 4 columns]"
      ]
     },
     "execution_count": 56,
     "metadata": {},
     "output_type": "execute_result"
    }
   ],
   "source": [
    "train_data"
   ]
  },
  {
   "cell_type": "code",
   "execution_count": 58,
   "id": "459be02a-1284-4ac9-b027-5a6a0dda1745",
   "metadata": {},
   "outputs": [],
   "source": [
    "\n",
    "\n",
    "# Drop rows where 'label' field is 'not_propaganda'\n",
    "train_data = train_data[train_data['label'] != 'not_propaganda']\n",
    "test_data = test_data[test_data['label'] != 'not_propaganda']\n",
    "\n",
    "# Tokenize and encode the text data\n",
    "tokenizer = BertTokenizer.from_pretrained('bert-base-uncased')\n",
    "X_train = tokenizer(list(train_data['processed_sentence']), padding=True, truncation=True, return_tensors='pt', max_length=128)\n",
    "X_test = tokenizer(list(test_data['processed_sentence']), padding=True, truncation=True, return_tensors='pt', max_length=128)\n",
    "\n",
    "\n",
    "\n",
    "# Encode labels\n",
    "label_encoder = LabelEncoder()\n",
    "train_data['encoded_label'] = label_encoder.fit_transform(train_data['label'])\n",
    "test_data['encoded_label'] = label_encoder.transform(test_data['label'])\n",
    "\n",
    "# Convert labels to tensor\n",
    "train_labels_tensor = torch.tensor(train_data['encoded_label'].values, dtype=torch.long)\n",
    "test_labels_tensor = torch.tensor(test_data['encoded_label'].values, dtype=torch.long)\n",
    "\n",
    "# Create DataLoader for training and testing data\n",
    "train_dataset = TensorDataset(X_train['input_ids'], X_train['attention_mask'], train_labels_tensor)\n",
    "test_dataset = TensorDataset(X_test['input_ids'], X_test['attention_mask'], test_labels_tensor)"
   ]
  },
  {
   "cell_type": "code",
   "execution_count": 64,
   "id": "9a244f76-26c9-4c04-a553-1f743830df95",
   "metadata": {},
   "outputs": [],
   "source": [
    "def prepare_inputs(input_ids, attention_mask, labels, device):\n",
    "    input_ids, attention_mask, labels = input_ids.to(device), attention_mask.to(device), labels.to(device)\n",
    "    return input_ids, attention_mask, labels\n",
    "\n",
    "# Train and evaluate function\n",
    "def train_and_evaluate(model, train_data, val_data, learning_rate, epochs, batch_size):\n",
    "    use_cuda = torch.cuda.is_available()\n",
    "    device = torch.device(\"cuda\" if use_cuda else \"cpu\")\n",
    "    model.to(device)\n",
    "    optimizer = Adam(model.parameters(), lr=learning_rate)\n",
    "    criterion = nn.CrossEntropyLoss()\n",
    "\n",
    "    for epoch_num in range(epochs):\n",
    "        total_acc_train = 0\n",
    "        total_loss_train = 0\n",
    "        model.train()\n",
    "        train_dataloader = DataLoader(train_data, batch_size, shuffle=True)\n",
    "        for batch in tqdm(train_dataloader):\n",
    "            input_ids, attention_mask, labels = batch\n",
    "            input_ids, attention_mask, labels = prepare_inputs(input_ids, attention_mask, labels, device)\n",
    "\n",
    "            optimizer.zero_grad()\n",
    "            outputs = model(input_ids, attention_mask=attention_mask)\n",
    "            loss = criterion(outputs, labels)\n",
    "            loss.backward()\n",
    "            optimizer.step()\n",
    "\n",
    "            total_loss_train += loss.item()\n",
    "            _, predicted = torch.max(outputs, 1)\n",
    "            total_acc_train += (predicted == labels).sum().item()\n",
    "\n",
    "        total_acc_val = 0\n",
    "        total_loss_val = 0\n",
    "        model.eval()\n",
    "        val_dataloader = DataLoader(val_data, batch_size=2)\n",
    "        true_labels = []\n",
    "        predictions = []\n",
    "        with torch.no_grad():\n",
    "            for batch in tqdm(val_dataloader):\n",
    "                input_ids, attention_mask, labels = batch\n",
    "                input_ids, attention_mask, labels = prepare_inputs(input_ids, attention_mask, labels, device)\n",
    "\n",
    "                outputs = model(input_ids, attention_mask=attention_mask)\n",
    "                loss = criterion(outputs, labels)\n",
    "\n",
    "                total_loss_val += loss.item()\n",
    "                _, predicted = torch.max(outputs, 1)\n",
    "                total_acc_val += (predicted == labels).sum().item()\n",
    "\n",
    "                true_labels.extend(labels.tolist())\n",
    "                predictions.extend(predicted.tolist())\n",
    "\n",
    "        # Calculate evaluation metrics\n",
    "        accuracy = accuracy_score(true_labels, predictions)\n",
    "        precision, recall, f1, _ = precision_recall_fscore_support(true_labels, predictions, average='weighted', zero_division=1)\n",
    "        report = classification_report(true_labels, predictions) \n",
    "        print(f'Epochs: {epoch_num + 1} | Train Loss: {total_loss_train / len(train_data):.3f} | Train Accuracy: {total_acc_train / len(train_data):.3f}')\n",
    "        print(f'Val loss: {total_loss_val / len(val_data):.3f} | Val Accuracy: {total_acc_val / len(val_data):.3f}')\n",
    "        print(\"BERT Classifier Accuracy:\", accuracy)\n",
    "        print(report)\n",
    "        # Append metrics for plotting\n",
    "        train_losses.append(total_loss_train / len(train_data))\n",
    "        train_accuracies.append(total_acc_train / len(train_data))\n",
    "        val_losses.append(total_loss_val / len(val_data))\n",
    "        val_accuracies.append(total_acc_val / len(val_data))"
   ]
  },
  {
   "cell_type": "code",
   "execution_count": 80,
   "id": "6a3beabb-8a5e-4088-958c-1eef3cb04b50",
   "metadata": {},
   "outputs": [
    {
     "name": "stdout",
     "output_type": "stream",
     "text": [
      "\n",
      "List of Lists:\n",
      " [[0.3, 2e-05, 4, 3], [0.3, 2e-05, 4, 4], [0.3, 2e-05, 8, 3], [0.3, 2e-05, 8, 4], [0.3, 3e-05, 4, 3], [0.3, 3e-05, 4, 4], [0.3, 3e-05, 8, 3], [0.3, 3e-05, 8, 4], [0.5, 2e-05, 4, 3], [0.5, 2e-05, 4, 4], [0.5, 2e-05, 8, 3], [0.5, 2e-05, 8, 4], [0.5, 3e-05, 4, 3], [0.5, 3e-05, 4, 4], [0.5, 3e-05, 8, 3], [0.5, 3e-05, 8, 4]]\n"
     ]
    }
   ],
   "source": [
    "param_grid = {\n",
    "    'dropout': [0.3, 0.5],\n",
    "    'learning_rate': [2e-5, 3e-5],\n",
    "    'batch_size': [4, 8],\n",
    "    'num_epochs': [3, 4]\n",
    "}\n",
    "\n",
    "\n",
    "from itertools import product\n",
    "\n",
    "# Get the keys and the values\n",
    "keys = list(param_grid.keys())\n",
    "values = list(param_grid.values())\n",
    "\n",
    "# Generate all combinations\n",
    "combinations = list(product(*values))\n",
    "\n",
    "# Convert to list of lists\n",
    "combinations_list = [list(comb) for comb in combinations]\n",
    "\n",
    "\n",
    "# If you want just the raw list of lists:\n",
    "print(\"\\nList of Lists:\\n\", combinations_list)"
   ]
  },
  {
   "cell_type": "code",
   "execution_count": 82,
   "id": "d542af37-1ec4-43bf-892e-e53c30199111",
   "metadata": {},
   "outputs": [
    {
     "data": {
      "text/plain": [
       "[[0.3, 2e-05, 4, 3],\n",
       " [0.3, 2e-05, 4, 4],\n",
       " [0.3, 2e-05, 8, 3],\n",
       " [0.3, 2e-05, 8, 4],\n",
       " [0.3, 3e-05, 4, 3],\n",
       " [0.3, 3e-05, 4, 4],\n",
       " [0.3, 3e-05, 8, 3],\n",
       " [0.3, 3e-05, 8, 4],\n",
       " [0.5, 2e-05, 4, 3],\n",
       " [0.5, 2e-05, 4, 4],\n",
       " [0.5, 2e-05, 8, 3],\n",
       " [0.5, 2e-05, 8, 4],\n",
       " [0.5, 3e-05, 4, 3],\n",
       " [0.5, 3e-05, 4, 4],\n",
       " [0.5, 3e-05, 8, 3],\n",
       " [0.5, 3e-05, 8, 4]]"
      ]
     },
     "execution_count": 82,
     "metadata": {},
     "output_type": "execute_result"
    }
   ],
   "source": [
    "combinations_list"
   ]
  },
  {
   "cell_type": "code",
   "execution_count": 84,
   "id": "eef8f0fb-818a-4e4a-ad5c-a50dc20f932a",
   "metadata": {},
   "outputs": [
    {
     "name": "stdout",
     "output_type": "stream",
     "text": [
      "Running for combination:  [0.3, 2e-05, 4, 3]\n"
     ]
    },
    {
     "name": "stderr",
     "output_type": "stream",
     "text": [
      "100%|█████████████████████████████████████████| 300/300 [03:54<00:00,  1.28it/s]\n",
      "100%|█████████████████████████████████████████| 138/138 [00:10<00:00, 12.91it/s]\n"
     ]
    },
    {
     "name": "stdout",
     "output_type": "stream",
     "text": [
      "Epochs: 1 | Train Loss: 0.480 | Train Accuracy: 0.263\n",
      "Val loss: 0.797 | Val Accuracy: 0.473\n",
      "BERT Classifier Accuracy: 0.4727272727272727\n",
      "              precision    recall  f1-score   support\n",
      "\n",
      "           0       0.45      0.31      0.37        42\n",
      "           1       0.33      0.71      0.45        31\n",
      "           2       0.82      0.24      0.38        37\n",
      "           3       0.35      0.25      0.29        28\n",
      "           4       0.58      0.84      0.69        38\n",
      "           5       0.44      0.84      0.58        37\n",
      "           6       0.69      0.35      0.47        31\n",
      "           7       0.71      0.16      0.26        31\n",
      "\n",
      "    accuracy                           0.47       275\n",
      "   macro avg       0.55      0.46      0.44       275\n",
      "weighted avg       0.55      0.47      0.44       275\n",
      "\n"
     ]
    },
    {
     "name": "stderr",
     "output_type": "stream",
     "text": [
      "100%|█████████████████████████████████████████| 300/300 [04:03<00:00,  1.23it/s]\n",
      "100%|█████████████████████████████████████████| 138/138 [00:10<00:00, 12.88it/s]\n"
     ]
    },
    {
     "name": "stdout",
     "output_type": "stream",
     "text": [
      "Epochs: 2 | Train Loss: 0.355 | Train Accuracy: 0.501\n",
      "Val loss: 0.640 | Val Accuracy: 0.549\n",
      "BERT Classifier Accuracy: 0.5490909090909091\n",
      "              precision    recall  f1-score   support\n",
      "\n",
      "           0       0.57      0.55      0.56        42\n",
      "           1       0.40      0.68      0.50        31\n",
      "           2       0.70      0.43      0.53        37\n",
      "           3       0.36      0.46      0.41        28\n",
      "           4       0.80      0.63      0.71        38\n",
      "           5       0.51      0.84      0.63        37\n",
      "           6       0.76      0.61      0.68        31\n",
      "           7       0.57      0.13      0.21        31\n",
      "\n",
      "    accuracy                           0.55       275\n",
      "   macro avg       0.58      0.54      0.53       275\n",
      "weighted avg       0.59      0.55      0.54       275\n",
      "\n"
     ]
    },
    {
     "name": "stderr",
     "output_type": "stream",
     "text": [
      "100%|█████████████████████████████████████████| 300/300 [03:57<00:00,  1.26it/s]\n",
      "100%|█████████████████████████████████████████| 138/138 [00:11<00:00, 12.17it/s]\n"
     ]
    },
    {
     "name": "stdout",
     "output_type": "stream",
     "text": [
      "Epochs: 3 | Train Loss: 0.230 | Train Accuracy: 0.708\n",
      "Val loss: 0.566 | Val Accuracy: 0.604\n",
      "BERT Classifier Accuracy: 0.6036363636363636\n",
      "              precision    recall  f1-score   support\n",
      "\n",
      "           0       0.68      0.62      0.65        42\n",
      "           1       0.49      0.65      0.56        31\n",
      "           2       0.67      0.54      0.60        37\n",
      "           3       0.42      0.71      0.53        28\n",
      "           4       0.79      0.82      0.81        38\n",
      "           5       0.78      0.38      0.51        37\n",
      "           6       0.75      0.68      0.71        31\n",
      "           7       0.42      0.45      0.44        31\n",
      "\n",
      "    accuracy                           0.60       275\n",
      "   macro avg       0.63      0.61      0.60       275\n",
      "weighted avg       0.64      0.60      0.61       275\n",
      "\n",
      "Running for combination:  [0.3, 2e-05, 4, 4]\n"
     ]
    },
    {
     "name": "stderr",
     "output_type": "stream",
     "text": [
      "100%|█████████████████████████████████████████| 300/300 [03:48<00:00,  1.31it/s]\n",
      "100%|█████████████████████████████████████████| 138/138 [00:11<00:00, 12.24it/s]\n"
     ]
    },
    {
     "name": "stdout",
     "output_type": "stream",
     "text": [
      "Epochs: 1 | Train Loss: 0.129 | Train Accuracy: 0.855\n",
      "Val loss: 0.635 | Val Accuracy: 0.618\n",
      "BERT Classifier Accuracy: 0.6181818181818182\n",
      "              precision    recall  f1-score   support\n",
      "\n",
      "           0       0.67      0.74      0.70        42\n",
      "           1       0.56      0.61      0.58        31\n",
      "           2       0.71      0.46      0.56        37\n",
      "           3       0.50      0.54      0.52        28\n",
      "           4       0.73      0.87      0.80        38\n",
      "           5       0.70      0.57      0.63        37\n",
      "           6       0.77      0.55      0.64        31\n",
      "           7       0.39      0.55      0.45        31\n",
      "\n",
      "    accuracy                           0.62       275\n",
      "   macro avg       0.63      0.61      0.61       275\n",
      "weighted avg       0.64      0.62      0.62       275\n",
      "\n"
     ]
    },
    {
     "name": "stderr",
     "output_type": "stream",
     "text": [
      "100%|█████████████████████████████████████████| 300/300 [03:59<00:00,  1.25it/s]\n",
      "100%|█████████████████████████████████████████| 138/138 [00:11<00:00, 11.74it/s]\n"
     ]
    },
    {
     "name": "stdout",
     "output_type": "stream",
     "text": [
      "Epochs: 2 | Train Loss: 0.075 | Train Accuracy: 0.924\n",
      "Val loss: 0.653 | Val Accuracy: 0.625\n",
      "BERT Classifier Accuracy: 0.6254545454545455\n",
      "              precision    recall  f1-score   support\n",
      "\n",
      "           0       0.64      0.76      0.70        42\n",
      "           1       0.57      0.74      0.65        31\n",
      "           2       0.71      0.46      0.56        37\n",
      "           3       0.45      0.50      0.47        28\n",
      "           4       0.82      0.74      0.78        38\n",
      "           5       0.53      0.65      0.59        37\n",
      "           6       0.79      0.61      0.69        31\n",
      "           7       0.56      0.48      0.52        31\n",
      "\n",
      "    accuracy                           0.63       275\n",
      "   macro avg       0.63      0.62      0.62       275\n",
      "weighted avg       0.64      0.63      0.63       275\n",
      "\n"
     ]
    },
    {
     "name": "stderr",
     "output_type": "stream",
     "text": [
      "100%|█████████████████████████████████████████| 300/300 [04:13<00:00,  1.18it/s]\n",
      "100%|█████████████████████████████████████████| 138/138 [00:12<00:00, 11.22it/s]\n"
     ]
    },
    {
     "name": "stdout",
     "output_type": "stream",
     "text": [
      "Epochs: 3 | Train Loss: 0.046 | Train Accuracy: 0.956\n",
      "Val loss: 0.720 | Val Accuracy: 0.618\n",
      "BERT Classifier Accuracy: 0.6181818181818182\n",
      "              precision    recall  f1-score   support\n",
      "\n",
      "           0       0.52      0.81      0.64        42\n",
      "           1       0.64      0.68      0.66        31\n",
      "           2       0.67      0.54      0.60        37\n",
      "           3       0.46      0.57      0.51        28\n",
      "           4       0.88      0.61      0.72        38\n",
      "           5       0.69      0.49      0.57        37\n",
      "           6       0.72      0.68      0.70        31\n",
      "           7       0.55      0.55      0.55        31\n",
      "\n",
      "    accuracy                           0.62       275\n",
      "   macro avg       0.64      0.61      0.62       275\n",
      "weighted avg       0.65      0.62      0.62       275\n",
      "\n"
     ]
    },
    {
     "name": "stderr",
     "output_type": "stream",
     "text": [
      "100%|█████████████████████████████████████████| 300/300 [04:21<00:00,  1.15it/s]\n",
      "100%|█████████████████████████████████████████| 138/138 [00:12<00:00, 11.32it/s]\n"
     ]
    },
    {
     "name": "stdout",
     "output_type": "stream",
     "text": [
      "Epochs: 4 | Train Loss: 0.033 | Train Accuracy: 0.969\n",
      "Val loss: 0.765 | Val Accuracy: 0.618\n",
      "BERT Classifier Accuracy: 0.6181818181818182\n",
      "              precision    recall  f1-score   support\n",
      "\n",
      "           0       0.58      0.83      0.69        42\n",
      "           1       0.65      0.42      0.51        31\n",
      "           2       0.67      0.59      0.63        37\n",
      "           3       0.47      0.57      0.52        28\n",
      "           4       0.76      0.76      0.76        38\n",
      "           5       0.59      0.59      0.59        37\n",
      "           6       0.84      0.52      0.64        31\n",
      "           7       0.50      0.55      0.52        31\n",
      "\n",
      "    accuracy                           0.62       275\n",
      "   macro avg       0.63      0.61      0.61       275\n",
      "weighted avg       0.64      0.62      0.62       275\n",
      "\n",
      "Running for combination:  [0.3, 2e-05, 8, 3]\n"
     ]
    },
    {
     "name": "stderr",
     "output_type": "stream",
     "text": [
      "100%|█████████████████████████████████████████| 150/150 [03:17<00:00,  1.31s/it]\n",
      "100%|█████████████████████████████████████████| 138/138 [00:10<00:00, 13.61it/s]\n"
     ]
    },
    {
     "name": "stdout",
     "output_type": "stream",
     "text": [
      "Epochs: 1 | Train Loss: 0.015 | Train Accuracy: 0.972\n",
      "Val loss: 0.762 | Val Accuracy: 0.622\n",
      "BERT Classifier Accuracy: 0.6218181818181818\n",
      "              precision    recall  f1-score   support\n",
      "\n",
      "           0       0.61      0.64      0.63        42\n",
      "           1       0.58      0.71      0.64        31\n",
      "           2       0.57      0.57      0.57        37\n",
      "           3       0.52      0.46      0.49        28\n",
      "           4       0.85      0.76      0.81        38\n",
      "           5       0.58      0.59      0.59        37\n",
      "           6       0.70      0.74      0.72        31\n",
      "           7       0.54      0.45      0.49        31\n",
      "\n",
      "    accuracy                           0.62       275\n",
      "   macro avg       0.62      0.62      0.62       275\n",
      "weighted avg       0.62      0.62      0.62       275\n",
      "\n"
     ]
    },
    {
     "name": "stderr",
     "output_type": "stream",
     "text": [
      "100%|█████████████████████████████████████████| 150/150 [03:02<00:00,  1.22s/it]\n",
      "100%|█████████████████████████████████████████| 138/138 [00:10<00:00, 12.58it/s]\n"
     ]
    },
    {
     "name": "stdout",
     "output_type": "stream",
     "text": [
      "Epochs: 2 | Train Loss: 0.010 | Train Accuracy: 0.979\n",
      "Val loss: 0.837 | Val Accuracy: 0.622\n",
      "BERT Classifier Accuracy: 0.6218181818181818\n",
      "              precision    recall  f1-score   support\n",
      "\n",
      "           0       0.59      0.76      0.67        42\n",
      "           1       0.61      0.61      0.61        31\n",
      "           2       0.65      0.54      0.59        37\n",
      "           3       0.45      0.50      0.47        28\n",
      "           4       0.85      0.74      0.79        38\n",
      "           5       0.55      0.62      0.58        37\n",
      "           6       0.84      0.68      0.75        31\n",
      "           7       0.50      0.45      0.47        31\n",
      "\n",
      "    accuracy                           0.62       275\n",
      "   macro avg       0.63      0.61      0.62       275\n",
      "weighted avg       0.63      0.62      0.62       275\n",
      "\n"
     ]
    },
    {
     "name": "stderr",
     "output_type": "stream",
     "text": [
      "100%|█████████████████████████████████████████| 150/150 [03:20<00:00,  1.33s/it]\n",
      "100%|█████████████████████████████████████████| 138/138 [00:10<00:00, 13.11it/s]\n"
     ]
    },
    {
     "name": "stdout",
     "output_type": "stream",
     "text": [
      "Epochs: 3 | Train Loss: 0.008 | Train Accuracy: 0.981\n",
      "Val loss: 0.866 | Val Accuracy: 0.629\n",
      "BERT Classifier Accuracy: 0.6290909090909091\n",
      "              precision    recall  f1-score   support\n",
      "\n",
      "           0       0.62      0.76      0.68        42\n",
      "           1       0.64      0.74      0.69        31\n",
      "           2       0.71      0.54      0.62        37\n",
      "           3       0.50      0.57      0.53        28\n",
      "           4       0.77      0.71      0.74        38\n",
      "           5       0.62      0.49      0.55        37\n",
      "           6       0.73      0.61      0.67        31\n",
      "           7       0.49      0.58      0.53        31\n",
      "\n",
      "    accuracy                           0.63       275\n",
      "   macro avg       0.63      0.63      0.62       275\n",
      "weighted avg       0.64      0.63      0.63       275\n",
      "\n",
      "Running for combination:  [0.3, 2e-05, 8, 4]\n"
     ]
    },
    {
     "name": "stderr",
     "output_type": "stream",
     "text": [
      "100%|█████████████████████████████████████████| 150/150 [03:02<00:00,  1.22s/it]\n",
      "100%|█████████████████████████████████████████| 138/138 [00:11<00:00, 12.32it/s]\n"
     ]
    },
    {
     "name": "stdout",
     "output_type": "stream",
     "text": [
      "Epochs: 1 | Train Loss: 0.008 | Train Accuracy: 0.983\n",
      "Val loss: 0.977 | Val Accuracy: 0.604\n",
      "BERT Classifier Accuracy: 0.6036363636363636\n",
      "              precision    recall  f1-score   support\n",
      "\n",
      "           0       0.62      0.62      0.62        42\n",
      "           1       0.57      0.81      0.67        31\n",
      "           2       0.72      0.57      0.64        37\n",
      "           3       0.40      0.61      0.49        28\n",
      "           4       0.81      0.55      0.66        38\n",
      "           5       0.56      0.62      0.59        37\n",
      "           6       0.78      0.58      0.67        31\n",
      "           7       0.54      0.48      0.51        31\n",
      "\n",
      "    accuracy                           0.60       275\n",
      "   macro avg       0.63      0.60      0.60       275\n",
      "weighted avg       0.63      0.60      0.61       275\n",
      "\n"
     ]
    },
    {
     "name": "stderr",
     "output_type": "stream",
     "text": [
      "100%|█████████████████████████████████████████| 150/150 [03:17<00:00,  1.32s/it]\n",
      "100%|█████████████████████████████████████████| 138/138 [00:11<00:00, 12.25it/s]\n"
     ]
    },
    {
     "name": "stdout",
     "output_type": "stream",
     "text": [
      "Epochs: 2 | Train Loss: 0.008 | Train Accuracy: 0.980\n",
      "Val loss: 0.988 | Val Accuracy: 0.582\n",
      "BERT Classifier Accuracy: 0.5818181818181818\n",
      "              precision    recall  f1-score   support\n",
      "\n",
      "           0       0.55      0.74      0.63        42\n",
      "           1       0.57      0.55      0.56        31\n",
      "           2       0.69      0.49      0.57        37\n",
      "           3       0.50      0.57      0.53        28\n",
      "           4       0.68      0.79      0.73        38\n",
      "           5       0.54      0.51      0.53        37\n",
      "           6       0.76      0.52      0.62        31\n",
      "           7       0.42      0.42      0.42        31\n",
      "\n",
      "    accuracy                           0.58       275\n",
      "   macro avg       0.59      0.57      0.57       275\n",
      "weighted avg       0.59      0.58      0.58       275\n",
      "\n"
     ]
    },
    {
     "name": "stderr",
     "output_type": "stream",
     "text": [
      "100%|█████████████████████████████████████████| 150/150 [03:23<00:00,  1.35s/it]\n",
      "100%|█████████████████████████████████████████| 138/138 [00:11<00:00, 12.27it/s]\n"
     ]
    },
    {
     "name": "stdout",
     "output_type": "stream",
     "text": [
      "Epochs: 3 | Train Loss: 0.005 | Train Accuracy: 0.985\n",
      "Val loss: 0.976 | Val Accuracy: 0.611\n",
      "BERT Classifier Accuracy: 0.610909090909091\n",
      "              precision    recall  f1-score   support\n",
      "\n",
      "           0       0.60      0.69      0.64        42\n",
      "           1       0.59      0.77      0.67        31\n",
      "           2       0.70      0.57      0.63        37\n",
      "           3       0.42      0.54      0.47        28\n",
      "           4       0.76      0.68      0.72        38\n",
      "           5       0.59      0.54      0.56        37\n",
      "           6       0.78      0.58      0.67        31\n",
      "           7       0.52      0.48      0.50        31\n",
      "\n",
      "    accuracy                           0.61       275\n",
      "   macro avg       0.62      0.61      0.61       275\n",
      "weighted avg       0.63      0.61      0.61       275\n",
      "\n"
     ]
    },
    {
     "name": "stderr",
     "output_type": "stream",
     "text": [
      "100%|█████████████████████████████████████████| 150/150 [03:25<00:00,  1.37s/it]\n",
      "100%|█████████████████████████████████████████| 138/138 [00:11<00:00, 11.75it/s]\n"
     ]
    },
    {
     "name": "stdout",
     "output_type": "stream",
     "text": [
      "Epochs: 4 | Train Loss: 0.005 | Train Accuracy: 0.986\n",
      "Val loss: 0.958 | Val Accuracy: 0.622\n",
      "BERT Classifier Accuracy: 0.6218181818181818\n",
      "              precision    recall  f1-score   support\n",
      "\n",
      "           0       0.63      0.64      0.64        42\n",
      "           1       0.61      0.71      0.66        31\n",
      "           2       0.67      0.59      0.63        37\n",
      "           3       0.56      0.50      0.53        28\n",
      "           4       0.69      0.71      0.70        38\n",
      "           5       0.55      0.62      0.58        37\n",
      "           6       0.79      0.61      0.69        31\n",
      "           7       0.52      0.55      0.53        31\n",
      "\n",
      "    accuracy                           0.62       275\n",
      "   macro avg       0.63      0.62      0.62       275\n",
      "weighted avg       0.63      0.62      0.62       275\n",
      "\n",
      "Running for combination:  [0.3, 3e-05, 4, 3]\n"
     ]
    },
    {
     "name": "stderr",
     "output_type": "stream",
     "text": [
      "100%|█████████████████████████████████████████| 300/300 [04:06<00:00,  1.22it/s]\n",
      "100%|█████████████████████████████████████████| 138/138 [00:12<00:00, 11.40it/s]\n"
     ]
    },
    {
     "name": "stdout",
     "output_type": "stream",
     "text": [
      "Epochs: 1 | Train Loss: 0.022 | Train Accuracy: 0.973\n",
      "Val loss: 1.002 | Val Accuracy: 0.611\n",
      "BERT Classifier Accuracy: 0.610909090909091\n",
      "              precision    recall  f1-score   support\n",
      "\n",
      "           0       0.58      0.83      0.69        42\n",
      "           1       0.86      0.39      0.53        31\n",
      "           2       0.57      0.62      0.60        37\n",
      "           3       0.52      0.61      0.56        28\n",
      "           4       0.75      0.71      0.73        38\n",
      "           5       0.55      0.57      0.56        37\n",
      "           6       0.80      0.52      0.63        31\n",
      "           7       0.50      0.55      0.52        31\n",
      "\n",
      "    accuracy                           0.61       275\n",
      "   macro avg       0.64      0.60      0.60       275\n",
      "weighted avg       0.64      0.61      0.61       275\n",
      "\n"
     ]
    },
    {
     "name": "stderr",
     "output_type": "stream",
     "text": [
      "100%|█████████████████████████████████████████| 300/300 [03:57<00:00,  1.26it/s]\n",
      "100%|█████████████████████████████████████████| 138/138 [00:12<00:00, 11.34it/s]\n"
     ]
    },
    {
     "name": "stdout",
     "output_type": "stream",
     "text": [
      "Epochs: 2 | Train Loss: 0.049 | Train Accuracy: 0.943\n",
      "Val loss: 0.989 | Val Accuracy: 0.604\n",
      "BERT Classifier Accuracy: 0.6036363636363636\n",
      "              precision    recall  f1-score   support\n",
      "\n",
      "           0       0.66      0.60      0.62        42\n",
      "           1       0.72      0.58      0.64        31\n",
      "           2       0.65      0.65      0.65        37\n",
      "           3       0.43      0.36      0.39        28\n",
      "           4       0.75      0.63      0.69        38\n",
      "           5       0.49      0.70      0.58        37\n",
      "           6       0.69      0.58      0.63        31\n",
      "           7       0.51      0.68      0.58        31\n",
      "\n",
      "    accuracy                           0.60       275\n",
      "   macro avg       0.61      0.60      0.60       275\n",
      "weighted avg       0.62      0.60      0.60       275\n",
      "\n"
     ]
    },
    {
     "name": "stderr",
     "output_type": "stream",
     "text": [
      "100%|█████████████████████████████████████████| 300/300 [03:59<00:00,  1.25it/s]\n",
      "100%|█████████████████████████████████████████| 138/138 [00:55<00:00,  2.51it/s]\n"
     ]
    },
    {
     "name": "stdout",
     "output_type": "stream",
     "text": [
      "Epochs: 3 | Train Loss: 0.029 | Train Accuracy: 0.965\n",
      "Val loss: 0.993 | Val Accuracy: 0.615\n",
      "BERT Classifier Accuracy: 0.6145454545454545\n",
      "              precision    recall  f1-score   support\n",
      "\n",
      "           0       0.66      0.69      0.67        42\n",
      "           1       0.55      0.71      0.62        31\n",
      "           2       0.76      0.59      0.67        37\n",
      "           3       0.42      0.61      0.50        28\n",
      "           4       0.89      0.63      0.74        38\n",
      "           5       0.60      0.65      0.62        37\n",
      "           6       0.78      0.45      0.57        31\n",
      "           7       0.46      0.55      0.50        31\n",
      "\n",
      "    accuracy                           0.61       275\n",
      "   macro avg       0.64      0.61      0.61       275\n",
      "weighted avg       0.65      0.61      0.62       275\n",
      "\n",
      "Running for combination:  [0.3, 3e-05, 4, 4]\n"
     ]
    },
    {
     "name": "stderr",
     "output_type": "stream",
     "text": [
      "100%|█████████████████████████████████████████| 300/300 [12:21<00:00,  2.47s/it]\n",
      "100%|█████████████████████████████████████████| 138/138 [00:16<00:00,  8.49it/s]\n"
     ]
    },
    {
     "name": "stdout",
     "output_type": "stream",
     "text": [
      "Epochs: 1 | Train Loss: 0.037 | Train Accuracy: 0.961\n",
      "Val loss: 1.063 | Val Accuracy: 0.596\n",
      "BERT Classifier Accuracy: 0.5963636363636363\n",
      "              precision    recall  f1-score   support\n",
      "\n",
      "           0       0.63      0.74      0.68        42\n",
      "           1       0.71      0.32      0.44        31\n",
      "           2       0.56      0.68      0.61        37\n",
      "           3       0.40      0.68      0.51        28\n",
      "           4       0.69      0.71      0.70        38\n",
      "           5       0.72      0.57      0.64        37\n",
      "           6       0.74      0.55      0.63        31\n",
      "           7       0.48      0.45      0.47        31\n",
      "\n",
      "    accuracy                           0.60       275\n",
      "   macro avg       0.62      0.59      0.58       275\n",
      "weighted avg       0.62      0.60      0.59       275\n",
      "\n"
     ]
    },
    {
     "name": "stderr",
     "output_type": "stream",
     "text": [
      "100%|█████████████████████████████████████████| 300/300 [05:33<00:00,  1.11s/it]\n",
      "100%|█████████████████████████████████████████| 138/138 [00:09<00:00, 14.28it/s]\n"
     ]
    },
    {
     "name": "stdout",
     "output_type": "stream",
     "text": [
      "Epochs: 2 | Train Loss: 0.023 | Train Accuracy: 0.975\n",
      "Val loss: 1.113 | Val Accuracy: 0.604\n",
      "BERT Classifier Accuracy: 0.6036363636363636\n",
      "              precision    recall  f1-score   support\n",
      "\n",
      "           0       0.74      0.62      0.68        42\n",
      "           1       0.73      0.35      0.48        31\n",
      "           2       0.51      0.86      0.64        37\n",
      "           3       0.49      0.71      0.58        28\n",
      "           4       0.75      0.63      0.69        38\n",
      "           5       0.72      0.49      0.58        37\n",
      "           6       0.65      0.48      0.56        31\n",
      "           7       0.49      0.65      0.56        31\n",
      "\n",
      "    accuracy                           0.60       275\n",
      "   macro avg       0.64      0.60      0.59       275\n",
      "weighted avg       0.64      0.60      0.60       275\n",
      "\n"
     ]
    },
    {
     "name": "stderr",
     "output_type": "stream",
     "text": [
      "100%|█████████████████████████████████████████| 300/300 [12:52<00:00,  2.57s/it]\n",
      "100%|█████████████████████████████████████████| 138/138 [00:57<00:00,  2.38it/s]\n"
     ]
    },
    {
     "name": "stdout",
     "output_type": "stream",
     "text": [
      "Epochs: 3 | Train Loss: 0.019 | Train Accuracy: 0.974\n",
      "Val loss: 1.074 | Val Accuracy: 0.600\n",
      "BERT Classifier Accuracy: 0.6\n",
      "              precision    recall  f1-score   support\n",
      "\n",
      "           0       0.49      0.88      0.63        42\n",
      "           1       0.68      0.48      0.57        31\n",
      "           2       0.67      0.43      0.52        37\n",
      "           3       0.58      0.50      0.54        28\n",
      "           4       0.84      0.68      0.75        38\n",
      "           5       0.64      0.57      0.60        37\n",
      "           6       0.63      0.61      0.62        31\n",
      "           7       0.47      0.55      0.51        31\n",
      "\n",
      "    accuracy                           0.60       275\n",
      "   macro avg       0.63      0.59      0.59       275\n",
      "weighted avg       0.63      0.60      0.60       275\n",
      "\n"
     ]
    },
    {
     "name": "stderr",
     "output_type": "stream",
     "text": [
      "100%|█████████████████████████████████████████| 300/300 [15:57<00:00,  3.19s/it]\n",
      "100%|█████████████████████████████████████████| 138/138 [00:08<00:00, 16.27it/s]\n"
     ]
    },
    {
     "name": "stdout",
     "output_type": "stream",
     "text": [
      "Epochs: 4 | Train Loss: 0.014 | Train Accuracy: 0.978\n",
      "Val loss: 1.057 | Val Accuracy: 0.589\n",
      "BERT Classifier Accuracy: 0.5890909090909091\n",
      "              precision    recall  f1-score   support\n",
      "\n",
      "           0       0.62      0.69      0.65        42\n",
      "           1       0.60      0.58      0.59        31\n",
      "           2       0.65      0.54      0.59        37\n",
      "           3       0.47      0.61      0.53        28\n",
      "           4       0.68      0.71      0.69        38\n",
      "           5       0.57      0.62      0.60        37\n",
      "           6       0.70      0.45      0.55        31\n",
      "           7       0.45      0.45      0.45        31\n",
      "\n",
      "    accuracy                           0.59       275\n",
      "   macro avg       0.59      0.58      0.58       275\n",
      "weighted avg       0.60      0.59      0.59       275\n",
      "\n",
      "Running for combination:  [0.3, 3e-05, 8, 3]\n"
     ]
    },
    {
     "name": "stderr",
     "output_type": "stream",
     "text": [
      "100%|█████████████████████████████████████████| 150/150 [12:24<00:00,  4.96s/it]\n",
      "100%|█████████████████████████████████████████| 138/138 [00:08<00:00, 16.88it/s]\n"
     ]
    },
    {
     "name": "stdout",
     "output_type": "stream",
     "text": [
      "Epochs: 1 | Train Loss: 0.007 | Train Accuracy: 0.981\n",
      "Val loss: 1.200 | Val Accuracy: 0.615\n",
      "BERT Classifier Accuracy: 0.6145454545454545\n",
      "              precision    recall  f1-score   support\n",
      "\n",
      "           0       0.63      0.74      0.68        42\n",
      "           1       0.71      0.55      0.62        31\n",
      "           2       0.68      0.68      0.68        37\n",
      "           3       0.42      0.64      0.51        28\n",
      "           4       0.76      0.74      0.75        38\n",
      "           5       0.58      0.41      0.48        37\n",
      "           6       0.74      0.55      0.63        31\n",
      "           7       0.50      0.58      0.54        31\n",
      "\n",
      "    accuracy                           0.61       275\n",
      "   macro avg       0.63      0.61      0.61       275\n",
      "weighted avg       0.63      0.61      0.62       275\n",
      "\n"
     ]
    },
    {
     "name": "stderr",
     "output_type": "stream",
     "text": [
      "100%|█████████████████████████████████████████| 150/150 [13:40<00:00,  5.47s/it]\n",
      "100%|█████████████████████████████████████████| 138/138 [00:08<00:00, 17.19it/s]\n"
     ]
    },
    {
     "name": "stdout",
     "output_type": "stream",
     "text": [
      "Epochs: 2 | Train Loss: 0.006 | Train Accuracy: 0.984\n",
      "Val loss: 1.098 | Val Accuracy: 0.618\n",
      "BERT Classifier Accuracy: 0.6181818181818182\n",
      "              precision    recall  f1-score   support\n",
      "\n",
      "           0       0.70      0.67      0.68        42\n",
      "           1       0.59      0.65      0.62        31\n",
      "           2       0.65      0.59      0.62        37\n",
      "           3       0.46      0.57      0.51        28\n",
      "           4       0.76      0.68      0.72        38\n",
      "           5       0.59      0.65      0.62        37\n",
      "           6       0.67      0.65      0.66        31\n",
      "           7       0.52      0.45      0.48        31\n",
      "\n",
      "    accuracy                           0.62       275\n",
      "   macro avg       0.62      0.61      0.61       275\n",
      "weighted avg       0.62      0.62      0.62       275\n",
      "\n"
     ]
    },
    {
     "name": "stderr",
     "output_type": "stream",
     "text": [
      "100%|█████████████████████████████████████████| 150/150 [11:53<00:00,  4.76s/it]\n",
      "100%|█████████████████████████████████████████| 138/138 [00:08<00:00, 17.20it/s]\n"
     ]
    },
    {
     "name": "stdout",
     "output_type": "stream",
     "text": [
      "Epochs: 3 | Train Loss: 0.008 | Train Accuracy: 0.981\n",
      "Val loss: 0.989 | Val Accuracy: 0.622\n",
      "BERT Classifier Accuracy: 0.6218181818181818\n",
      "              precision    recall  f1-score   support\n",
      "\n",
      "           0       0.67      0.67      0.67        42\n",
      "           1       0.61      0.61      0.61        31\n",
      "           2       0.62      0.62      0.62        37\n",
      "           3       0.47      0.57      0.52        28\n",
      "           4       0.74      0.74      0.74        38\n",
      "           5       0.61      0.59      0.60        37\n",
      "           6       0.75      0.68      0.71        31\n",
      "           7       0.48      0.45      0.47        31\n",
      "\n",
      "    accuracy                           0.62       275\n",
      "   macro avg       0.62      0.62      0.62       275\n",
      "weighted avg       0.63      0.62      0.62       275\n",
      "\n",
      "Running for combination:  [0.3, 3e-05, 8, 4]\n"
     ]
    },
    {
     "name": "stderr",
     "output_type": "stream",
     "text": [
      "100%|█████████████████████████████████████████| 150/150 [11:15<00:00,  4.51s/it]\n",
      "100%|█████████████████████████████████████████| 138/138 [00:50<00:00,  2.76it/s]\n"
     ]
    },
    {
     "name": "stdout",
     "output_type": "stream",
     "text": [
      "Epochs: 1 | Train Loss: 0.010 | Train Accuracy: 0.978\n",
      "Val loss: 1.150 | Val Accuracy: 0.636\n",
      "BERT Classifier Accuracy: 0.6363636363636364\n",
      "              precision    recall  f1-score   support\n",
      "\n",
      "           0       0.67      0.76      0.71        42\n",
      "           1       0.68      0.48      0.57        31\n",
      "           2       0.63      0.73      0.68        37\n",
      "           3       0.58      0.50      0.54        28\n",
      "           4       0.71      0.71      0.71        38\n",
      "           5       0.72      0.49      0.58        37\n",
      "           6       0.57      0.77      0.66        31\n",
      "           7       0.55      0.58      0.56        31\n",
      "\n",
      "    accuracy                           0.64       275\n",
      "   macro avg       0.64      0.63      0.63       275\n",
      "weighted avg       0.64      0.64      0.63       275\n",
      "\n"
     ]
    },
    {
     "name": "stderr",
     "output_type": "stream",
     "text": [
      "100%|█████████████████████████████████████████| 150/150 [11:24<00:00,  4.56s/it]\n",
      "100%|█████████████████████████████████████████| 138/138 [00:08<00:00, 16.87it/s]\n"
     ]
    },
    {
     "name": "stdout",
     "output_type": "stream",
     "text": [
      "Epochs: 2 | Train Loss: 0.008 | Train Accuracy: 0.979\n",
      "Val loss: 1.182 | Val Accuracy: 0.618\n",
      "BERT Classifier Accuracy: 0.6181818181818182\n",
      "              precision    recall  f1-score   support\n",
      "\n",
      "           0       0.57      0.71      0.63        42\n",
      "           1       0.73      0.52      0.60        31\n",
      "           2       0.65      0.70      0.68        37\n",
      "           3       0.54      0.54      0.54        28\n",
      "           4       0.74      0.68      0.71        38\n",
      "           5       0.54      0.78      0.64        37\n",
      "           6       0.73      0.52      0.60        31\n",
      "           7       0.57      0.39      0.46        31\n",
      "\n",
      "    accuracy                           0.62       275\n",
      "   macro avg       0.63      0.61      0.61       275\n",
      "weighted avg       0.63      0.62      0.61       275\n",
      "\n"
     ]
    },
    {
     "name": "stderr",
     "output_type": "stream",
     "text": [
      "100%|█████████████████████████████████████████| 150/150 [09:18<00:00,  3.72s/it]\n",
      "100%|█████████████████████████████████████████| 138/138 [01:03<00:00,  2.18it/s]\n"
     ]
    },
    {
     "name": "stdout",
     "output_type": "stream",
     "text": [
      "Epochs: 3 | Train Loss: 0.005 | Train Accuracy: 0.983\n",
      "Val loss: 1.287 | Val Accuracy: 0.615\n",
      "BERT Classifier Accuracy: 0.6145454545454545\n",
      "              precision    recall  f1-score   support\n",
      "\n",
      "           0       0.62      0.71      0.67        42\n",
      "           1       0.59      0.55      0.57        31\n",
      "           2       0.68      0.57      0.62        37\n",
      "           3       0.43      0.68      0.53        28\n",
      "           4       0.72      0.68      0.70        38\n",
      "           5       0.65      0.54      0.59        37\n",
      "           6       0.76      0.61      0.68        31\n",
      "           7       0.55      0.55      0.55        31\n",
      "\n",
      "    accuracy                           0.61       275\n",
      "   macro avg       0.62      0.61      0.61       275\n",
      "weighted avg       0.63      0.61      0.62       275\n",
      "\n"
     ]
    },
    {
     "name": "stderr",
     "output_type": "stream",
     "text": [
      "100%|█████████████████████████████████████████| 150/150 [08:35<00:00,  3.44s/it]\n",
      "100%|█████████████████████████████████████████| 138/138 [00:46<00:00,  2.97it/s]\n"
     ]
    },
    {
     "name": "stdout",
     "output_type": "stream",
     "text": [
      "Epochs: 4 | Train Loss: 0.012 | Train Accuracy: 0.973\n",
      "Val loss: 1.101 | Val Accuracy: 0.625\n",
      "BERT Classifier Accuracy: 0.6254545454545455\n",
      "              precision    recall  f1-score   support\n",
      "\n",
      "           0       0.60      0.62      0.61        42\n",
      "           1       0.56      0.77      0.65        31\n",
      "           2       0.65      0.65      0.65        37\n",
      "           3       0.58      0.50      0.54        28\n",
      "           4       0.86      0.50      0.63        38\n",
      "           5       0.57      0.76      0.65        37\n",
      "           6       0.78      0.68      0.72        31\n",
      "           7       0.53      0.52      0.52        31\n",
      "\n",
      "    accuracy                           0.63       275\n",
      "   macro avg       0.64      0.62      0.62       275\n",
      "weighted avg       0.65      0.63      0.62       275\n",
      "\n",
      "Running for combination:  [0.5, 2e-05, 4, 3]\n"
     ]
    },
    {
     "name": "stderr",
     "output_type": "stream",
     "text": [
      "100%|█████████████████████████████████████████| 300/300 [13:56<00:00,  2.79s/it]\n",
      "100%|█████████████████████████████████████████| 138/138 [00:56<00:00,  2.44it/s]\n"
     ]
    },
    {
     "name": "stdout",
     "output_type": "stream",
     "text": [
      "Epochs: 1 | Train Loss: 0.015 | Train Accuracy: 0.981\n",
      "Val loss: 1.064 | Val Accuracy: 0.629\n",
      "BERT Classifier Accuracy: 0.6290909090909091\n",
      "              precision    recall  f1-score   support\n",
      "\n",
      "           0       0.67      0.62      0.64        42\n",
      "           1       0.69      0.58      0.63        31\n",
      "           2       0.70      0.70      0.70        37\n",
      "           3       0.44      0.61      0.51        28\n",
      "           4       0.66      0.66      0.66        38\n",
      "           5       0.60      0.70      0.65        37\n",
      "           6       0.73      0.61      0.67        31\n",
      "           7       0.59      0.52      0.55        31\n",
      "\n",
      "    accuracy                           0.63       275\n",
      "   macro avg       0.64      0.62      0.63       275\n",
      "weighted avg       0.64      0.63      0.63       275\n",
      "\n"
     ]
    },
    {
     "name": "stderr",
     "output_type": "stream",
     "text": [
      "100%|█████████████████████████████████████████| 300/300 [13:52<00:00,  2.77s/it]\n",
      "100%|█████████████████████████████████████████| 138/138 [00:57<00:00,  2.38it/s]\n"
     ]
    },
    {
     "name": "stdout",
     "output_type": "stream",
     "text": [
      "Epochs: 2 | Train Loss: 0.010 | Train Accuracy: 0.981\n",
      "Val loss: 1.175 | Val Accuracy: 0.615\n",
      "BERT Classifier Accuracy: 0.6145454545454545\n",
      "              precision    recall  f1-score   support\n",
      "\n",
      "           0       0.62      0.69      0.65        42\n",
      "           1       0.72      0.58      0.64        31\n",
      "           2       0.63      0.73      0.68        37\n",
      "           3       0.45      0.50      0.47        28\n",
      "           4       0.77      0.61      0.68        38\n",
      "           5       0.60      0.65      0.62        37\n",
      "           6       0.71      0.65      0.68        31\n",
      "           7       0.45      0.45      0.45        31\n",
      "\n",
      "    accuracy                           0.61       275\n",
      "   macro avg       0.62      0.61      0.61       275\n",
      "weighted avg       0.62      0.61      0.62       275\n",
      "\n"
     ]
    },
    {
     "name": "stderr",
     "output_type": "stream",
     "text": [
      "100%|█████████████████████████████████████████| 300/300 [11:53<00:00,  2.38s/it]\n",
      "100%|█████████████████████████████████████████| 138/138 [00:46<00:00,  2.96it/s]\n"
     ]
    },
    {
     "name": "stdout",
     "output_type": "stream",
     "text": [
      "Epochs: 3 | Train Loss: 0.012 | Train Accuracy: 0.982\n",
      "Val loss: 1.150 | Val Accuracy: 0.611\n",
      "BERT Classifier Accuracy: 0.610909090909091\n",
      "              precision    recall  f1-score   support\n",
      "\n",
      "           0       0.62      0.74      0.67        42\n",
      "           1       0.80      0.52      0.63        31\n",
      "           2       0.72      0.57      0.64        37\n",
      "           3       0.39      0.61      0.47        28\n",
      "           4       0.76      0.66      0.70        38\n",
      "           5       0.57      0.65      0.61        37\n",
      "           6       0.78      0.58      0.67        31\n",
      "           7       0.47      0.52      0.49        31\n",
      "\n",
      "    accuracy                           0.61       275\n",
      "   macro avg       0.64      0.60      0.61       275\n",
      "weighted avg       0.64      0.61      0.62       275\n",
      "\n",
      "Running for combination:  [0.5, 2e-05, 4, 4]\n"
     ]
    },
    {
     "name": "stderr",
     "output_type": "stream",
     "text": [
      "100%|█████████████████████████████████████████| 300/300 [14:12<00:00,  2.84s/it]\n",
      "100%|█████████████████████████████████████████| 138/138 [00:49<00:00,  2.77it/s]\n"
     ]
    },
    {
     "name": "stdout",
     "output_type": "stream",
     "text": [
      "Epochs: 1 | Train Loss: 0.016 | Train Accuracy: 0.978\n",
      "Val loss: 1.217 | Val Accuracy: 0.618\n",
      "BERT Classifier Accuracy: 0.6181818181818182\n",
      "              precision    recall  f1-score   support\n",
      "\n",
      "           0       0.64      0.69      0.67        42\n",
      "           1       0.67      0.58      0.62        31\n",
      "           2       0.76      0.59      0.67        37\n",
      "           3       0.40      0.64      0.49        28\n",
      "           4       0.81      0.58      0.68        38\n",
      "           5       0.56      0.73      0.64        37\n",
      "           6       0.70      0.61      0.66        31\n",
      "           7       0.56      0.48      0.52        31\n",
      "\n",
      "    accuracy                           0.62       275\n",
      "   macro avg       0.64      0.61      0.62       275\n",
      "weighted avg       0.65      0.62      0.62       275\n",
      "\n"
     ]
    },
    {
     "name": "stderr",
     "output_type": "stream",
     "text": [
      "100%|█████████████████████████████████████████| 300/300 [12:14<00:00,  2.45s/it]\n",
      "100%|█████████████████████████████████████████| 138/138 [00:08<00:00, 16.35it/s]\n"
     ]
    },
    {
     "name": "stdout",
     "output_type": "stream",
     "text": [
      "Epochs: 2 | Train Loss: 0.008 | Train Accuracy: 0.984\n",
      "Val loss: 1.249 | Val Accuracy: 0.622\n",
      "BERT Classifier Accuracy: 0.6218181818181818\n",
      "              precision    recall  f1-score   support\n",
      "\n",
      "           0       0.72      0.62      0.67        42\n",
      "           1       0.57      0.68      0.62        31\n",
      "           2       0.78      0.57      0.66        37\n",
      "           3       0.41      0.61      0.49        28\n",
      "           4       0.74      0.68      0.71        38\n",
      "           5       0.57      0.76      0.65        37\n",
      "           6       0.81      0.55      0.65        31\n",
      "           7       0.52      0.48      0.50        31\n",
      "\n",
      "    accuracy                           0.62       275\n",
      "   macro avg       0.64      0.62      0.62       275\n",
      "weighted avg       0.65      0.62      0.63       275\n",
      "\n"
     ]
    },
    {
     "name": "stderr",
     "output_type": "stream",
     "text": [
      "100%|█████████████████████████████████████████| 300/300 [15:24<00:00,  3.08s/it]\n",
      "100%|█████████████████████████████████████████| 138/138 [00:08<00:00, 16.15it/s]\n"
     ]
    },
    {
     "name": "stdout",
     "output_type": "stream",
     "text": [
      "Epochs: 3 | Train Loss: 0.008 | Train Accuracy: 0.988\n",
      "Val loss: 1.260 | Val Accuracy: 0.622\n",
      "BERT Classifier Accuracy: 0.6218181818181818\n",
      "              precision    recall  f1-score   support\n",
      "\n",
      "           0       0.72      0.62      0.67        42\n",
      "           1       0.59      0.65      0.62        31\n",
      "           2       0.76      0.59      0.67        37\n",
      "           3       0.39      0.61      0.47        28\n",
      "           4       0.76      0.66      0.70        38\n",
      "           5       0.59      0.70      0.64        37\n",
      "           6       0.81      0.55      0.65        31\n",
      "           7       0.53      0.58      0.55        31\n",
      "\n",
      "    accuracy                           0.62       275\n",
      "   macro avg       0.64      0.62      0.62       275\n",
      "weighted avg       0.65      0.62      0.63       275\n",
      "\n"
     ]
    },
    {
     "name": "stderr",
     "output_type": "stream",
     "text": [
      "100%|█████████████████████████████████████████| 300/300 [14:12<00:00,  2.84s/it]\n",
      "100%|█████████████████████████████████████████| 138/138 [00:08<00:00, 16.04it/s]\n"
     ]
    },
    {
     "name": "stdout",
     "output_type": "stream",
     "text": [
      "Epochs: 4 | Train Loss: 0.007 | Train Accuracy: 0.985\n",
      "Val loss: 1.287 | Val Accuracy: 0.622\n",
      "BERT Classifier Accuracy: 0.6218181818181818\n",
      "              precision    recall  f1-score   support\n",
      "\n",
      "           0       0.69      0.64      0.67        42\n",
      "           1       0.59      0.61      0.60        31\n",
      "           2       0.73      0.59      0.66        37\n",
      "           3       0.38      0.61      0.47        28\n",
      "           4       0.78      0.66      0.71        38\n",
      "           5       0.59      0.70      0.64        37\n",
      "           6       0.82      0.58      0.68        31\n",
      "           7       0.55      0.55      0.55        31\n",
      "\n",
      "    accuracy                           0.62       275\n",
      "   macro avg       0.64      0.62      0.62       275\n",
      "weighted avg       0.65      0.62      0.63       275\n",
      "\n",
      "Running for combination:  [0.5, 2e-05, 8, 3]\n"
     ]
    },
    {
     "name": "stderr",
     "output_type": "stream",
     "text": [
      "100%|█████████████████████████████████████████| 150/150 [10:44<00:00,  4.30s/it]\n",
      "100%|█████████████████████████████████████████| 138/138 [00:08<00:00, 15.92it/s]\n"
     ]
    },
    {
     "name": "stdout",
     "output_type": "stream",
     "text": [
      "Epochs: 1 | Train Loss: 0.005 | Train Accuracy: 0.987\n",
      "Val loss: 1.287 | Val Accuracy: 0.615\n",
      "BERT Classifier Accuracy: 0.6145454545454545\n",
      "              precision    recall  f1-score   support\n",
      "\n",
      "           0       0.65      0.67      0.66        42\n",
      "           1       0.61      0.61      0.61        31\n",
      "           2       0.76      0.51      0.61        37\n",
      "           3       0.42      0.68      0.52        28\n",
      "           4       0.63      0.68      0.66        38\n",
      "           5       0.67      0.59      0.63        37\n",
      "           6       0.79      0.61      0.69        31\n",
      "           7       0.52      0.55      0.53        31\n",
      "\n",
      "    accuracy                           0.61       275\n",
      "   macro avg       0.63      0.61      0.61       275\n",
      "weighted avg       0.64      0.61      0.62       275\n",
      "\n"
     ]
    },
    {
     "name": "stderr",
     "output_type": "stream",
     "text": [
      "100%|█████████████████████████████████████████| 150/150 [10:29<00:00,  4.19s/it]\n",
      "100%|█████████████████████████████████████████| 138/138 [00:08<00:00, 16.84it/s]\n"
     ]
    },
    {
     "name": "stdout",
     "output_type": "stream",
     "text": [
      "Epochs: 2 | Train Loss: 0.005 | Train Accuracy: 0.979\n",
      "Val loss: 1.377 | Val Accuracy: 0.600\n",
      "BERT Classifier Accuracy: 0.6\n",
      "              precision    recall  f1-score   support\n",
      "\n",
      "           0       0.64      0.71      0.67        42\n",
      "           1       0.58      0.68      0.63        31\n",
      "           2       0.72      0.57      0.64        37\n",
      "           3       0.42      0.64      0.51        28\n",
      "           4       0.91      0.53      0.67        38\n",
      "           5       0.52      0.59      0.56        37\n",
      "           6       0.72      0.58      0.64        31\n",
      "           7       0.48      0.48      0.48        31\n",
      "\n",
      "    accuracy                           0.60       275\n",
      "   macro avg       0.63      0.60      0.60       275\n",
      "weighted avg       0.64      0.60      0.60       275\n",
      "\n"
     ]
    },
    {
     "name": "stderr",
     "output_type": "stream",
     "text": [
      "100%|█████████████████████████████████████████| 150/150 [13:17<00:00,  5.31s/it]\n",
      "100%|█████████████████████████████████████████| 138/138 [00:08<00:00, 16.88it/s]\n"
     ]
    },
    {
     "name": "stdout",
     "output_type": "stream",
     "text": [
      "Epochs: 3 | Train Loss: 0.005 | Train Accuracy: 0.985\n",
      "Val loss: 1.270 | Val Accuracy: 0.644\n",
      "BERT Classifier Accuracy: 0.6436363636363637\n",
      "              precision    recall  f1-score   support\n",
      "\n",
      "           0       0.67      0.69      0.68        42\n",
      "           1       0.59      0.74      0.66        31\n",
      "           2       0.76      0.59      0.67        37\n",
      "           3       0.49      0.61      0.54        28\n",
      "           4       0.81      0.66      0.72        38\n",
      "           5       0.60      0.68      0.63        37\n",
      "           6       0.72      0.58      0.64        31\n",
      "           7       0.58      0.58      0.58        31\n",
      "\n",
      "    accuracy                           0.64       275\n",
      "   macro avg       0.65      0.64      0.64       275\n",
      "weighted avg       0.66      0.64      0.65       275\n",
      "\n",
      "Running for combination:  [0.5, 2e-05, 8, 4]\n"
     ]
    },
    {
     "name": "stderr",
     "output_type": "stream",
     "text": [
      "100%|█████████████████████████████████████████| 150/150 [11:16<00:00,  4.51s/it]\n",
      "100%|█████████████████████████████████████████| 138/138 [00:08<00:00, 17.17it/s]\n"
     ]
    },
    {
     "name": "stdout",
     "output_type": "stream",
     "text": [
      "Epochs: 1 | Train Loss: 0.005 | Train Accuracy: 0.983\n",
      "Val loss: 1.318 | Val Accuracy: 0.633\n",
      "BERT Classifier Accuracy: 0.6327272727272727\n",
      "              precision    recall  f1-score   support\n",
      "\n",
      "           0       0.63      0.76      0.69        42\n",
      "           1       0.85      0.55      0.67        31\n",
      "           2       0.63      0.65      0.64        37\n",
      "           3       0.46      0.61      0.52        28\n",
      "           4       0.82      0.61      0.70        38\n",
      "           5       0.58      0.70      0.63        37\n",
      "           6       0.67      0.58      0.62        31\n",
      "           7       0.59      0.55      0.57        31\n",
      "\n",
      "    accuracy                           0.63       275\n",
      "   macro avg       0.65      0.63      0.63       275\n",
      "weighted avg       0.66      0.63      0.64       275\n",
      "\n"
     ]
    },
    {
     "name": "stderr",
     "output_type": "stream",
     "text": [
      "100%|█████████████████████████████████████████| 150/150 [06:26<00:00,  2.58s/it]\n",
      "100%|█████████████████████████████████████████| 138/138 [00:08<00:00, 16.84it/s]\n"
     ]
    },
    {
     "name": "stdout",
     "output_type": "stream",
     "text": [
      "Epochs: 2 | Train Loss: 0.003 | Train Accuracy: 0.987\n",
      "Val loss: 1.265 | Val Accuracy: 0.622\n",
      "BERT Classifier Accuracy: 0.6218181818181818\n",
      "              precision    recall  f1-score   support\n",
      "\n",
      "           0       0.61      0.71      0.66        42\n",
      "           1       0.82      0.58      0.68        31\n",
      "           2       0.68      0.62      0.65        37\n",
      "           3       0.49      0.61      0.54        28\n",
      "           4       0.68      0.68      0.68        38\n",
      "           5       0.57      0.68      0.62        37\n",
      "           6       0.71      0.55      0.62        31\n",
      "           7       0.52      0.48      0.50        31\n",
      "\n",
      "    accuracy                           0.62       275\n",
      "   macro avg       0.63      0.61      0.62       275\n",
      "weighted avg       0.64      0.62      0.62       275\n",
      "\n"
     ]
    },
    {
     "name": "stderr",
     "output_type": "stream",
     "text": [
      "100%|█████████████████████████████████████████| 150/150 [09:26<00:00,  3.77s/it]\n",
      "100%|█████████████████████████████████████████| 138/138 [00:08<00:00, 15.68it/s]\n"
     ]
    },
    {
     "name": "stdout",
     "output_type": "stream",
     "text": [
      "Epochs: 3 | Train Loss: 0.003 | Train Accuracy: 0.986\n",
      "Val loss: 1.269 | Val Accuracy: 0.625\n",
      "BERT Classifier Accuracy: 0.6254545454545455\n",
      "              precision    recall  f1-score   support\n",
      "\n",
      "           0       0.61      0.71      0.66        42\n",
      "           1       0.83      0.61      0.70        31\n",
      "           2       0.68      0.62      0.65        37\n",
      "           3       0.49      0.61      0.54        28\n",
      "           4       0.69      0.71      0.70        38\n",
      "           5       0.55      0.62      0.58        37\n",
      "           6       0.72      0.58      0.64        31\n",
      "           7       0.54      0.48      0.51        31\n",
      "\n",
      "    accuracy                           0.63       275\n",
      "   macro avg       0.64      0.62      0.62       275\n",
      "weighted avg       0.64      0.63      0.63       275\n",
      "\n"
     ]
    },
    {
     "name": "stderr",
     "output_type": "stream",
     "text": [
      "100%|█████████████████████████████████████████| 150/150 [07:58<00:00,  3.19s/it]\n",
      "100%|█████████████████████████████████████████| 138/138 [01:01<00:00,  2.25it/s]\n"
     ]
    },
    {
     "name": "stdout",
     "output_type": "stream",
     "text": [
      "Epochs: 4 | Train Loss: 0.003 | Train Accuracy: 0.985\n",
      "Val loss: 1.279 | Val Accuracy: 0.622\n",
      "BERT Classifier Accuracy: 0.6218181818181818\n",
      "              precision    recall  f1-score   support\n",
      "\n",
      "           0       0.59      0.71      0.65        42\n",
      "           1       0.82      0.58      0.68        31\n",
      "           2       0.65      0.59      0.62        37\n",
      "           3       0.47      0.61      0.53        28\n",
      "           4       0.68      0.68      0.68        38\n",
      "           5       0.59      0.62      0.61        37\n",
      "           6       0.75      0.58      0.65        31\n",
      "           7       0.55      0.55      0.55        31\n",
      "\n",
      "    accuracy                           0.62       275\n",
      "   macro avg       0.64      0.62      0.62       275\n",
      "weighted avg       0.64      0.62      0.62       275\n",
      "\n",
      "Running for combination:  [0.5, 3e-05, 4, 3]\n"
     ]
    },
    {
     "name": "stderr",
     "output_type": "stream",
     "text": [
      "100%|█████████████████████████████████████████| 300/300 [11:51<00:00,  2.37s/it]\n",
      "100%|█████████████████████████████████████████| 138/138 [00:55<00:00,  2.49it/s]\n"
     ]
    },
    {
     "name": "stdout",
     "output_type": "stream",
     "text": [
      "Epochs: 1 | Train Loss: 0.015 | Train Accuracy: 0.983\n",
      "Val loss: 1.391 | Val Accuracy: 0.611\n",
      "BERT Classifier Accuracy: 0.610909090909091\n",
      "              precision    recall  f1-score   support\n",
      "\n",
      "           0       0.68      0.55      0.61        42\n",
      "           1       0.61      0.61      0.61        31\n",
      "           2       0.58      0.68      0.62        37\n",
      "           3       0.49      0.61      0.54        28\n",
      "           4       0.70      0.68      0.69        38\n",
      "           5       0.58      0.59      0.59        37\n",
      "           6       0.72      0.68      0.70        31\n",
      "           7       0.54      0.48      0.51        31\n",
      "\n",
      "    accuracy                           0.61       275\n",
      "   macro avg       0.61      0.61      0.61       275\n",
      "weighted avg       0.62      0.61      0.61       275\n",
      "\n"
     ]
    },
    {
     "name": "stderr",
     "output_type": "stream",
     "text": [
      "100%|███████████████████████████████████████| 300/300 [1:16:48<00:00, 15.36s/it]\n",
      "100%|█████████████████████████████████████████| 138/138 [00:08<00:00, 16.57it/s]\n"
     ]
    },
    {
     "name": "stdout",
     "output_type": "stream",
     "text": [
      "Epochs: 2 | Train Loss: 0.022 | Train Accuracy: 0.975\n",
      "Val loss: 1.406 | Val Accuracy: 0.593\n",
      "BERT Classifier Accuracy: 0.5927272727272728\n",
      "              precision    recall  f1-score   support\n",
      "\n",
      "           0       0.69      0.52      0.59        42\n",
      "           1       0.53      0.52      0.52        31\n",
      "           2       0.63      0.65      0.64        37\n",
      "           3       0.41      0.75      0.53        28\n",
      "           4       0.66      0.71      0.68        38\n",
      "           5       0.62      0.57      0.59        37\n",
      "           6       0.79      0.61      0.69        31\n",
      "           7       0.52      0.42      0.46        31\n",
      "\n",
      "    accuracy                           0.59       275\n",
      "   macro avg       0.61      0.59      0.59       275\n",
      "weighted avg       0.61      0.59      0.59       275\n",
      "\n"
     ]
    },
    {
     "name": "stderr",
     "output_type": "stream",
     "text": [
      "100%|█████████████████████████████████████████| 300/300 [15:05<00:00,  3.02s/it]\n",
      "100%|█████████████████████████████████████████| 138/138 [00:54<00:00,  2.52it/s]\n"
     ]
    },
    {
     "name": "stdout",
     "output_type": "stream",
     "text": [
      "Epochs: 3 | Train Loss: 0.028 | Train Accuracy: 0.970\n",
      "Val loss: 1.223 | Val Accuracy: 0.618\n",
      "BERT Classifier Accuracy: 0.6181818181818182\n",
      "              precision    recall  f1-score   support\n",
      "\n",
      "           0       0.58      0.81      0.67        42\n",
      "           1       0.58      0.58      0.58        31\n",
      "           2       0.66      0.51      0.58        37\n",
      "           3       0.54      0.54      0.54        28\n",
      "           4       0.73      0.71      0.72        38\n",
      "           5       0.73      0.59      0.66        37\n",
      "           6       0.71      0.55      0.62        31\n",
      "           7       0.49      0.58      0.53        31\n",
      "\n",
      "    accuracy                           0.62       275\n",
      "   macro avg       0.63      0.61      0.61       275\n",
      "weighted avg       0.63      0.62      0.62       275\n",
      "\n",
      "Running for combination:  [0.5, 3e-05, 4, 4]\n"
     ]
    },
    {
     "name": "stderr",
     "output_type": "stream",
     "text": [
      "100%|███████████████████████████████████████| 300/300 [1:10:56<00:00, 14.19s/it]\n",
      "100%|█████████████████████████████████████████| 138/138 [01:01<00:00,  2.23it/s]\n"
     ]
    },
    {
     "name": "stdout",
     "output_type": "stream",
     "text": [
      "Epochs: 1 | Train Loss: 0.024 | Train Accuracy: 0.972\n",
      "Val loss: 1.394 | Val Accuracy: 0.600\n",
      "BERT Classifier Accuracy: 0.6\n",
      "              precision    recall  f1-score   support\n",
      "\n",
      "           0       0.61      0.71      0.66        42\n",
      "           1       0.68      0.61      0.64        31\n",
      "           2       0.71      0.54      0.62        37\n",
      "           3       0.39      0.64      0.49        28\n",
      "           4       0.75      0.55      0.64        38\n",
      "           5       0.64      0.57      0.60        37\n",
      "           6       0.59      0.74      0.66        31\n",
      "           7       0.54      0.42      0.47        31\n",
      "\n",
      "    accuracy                           0.60       275\n",
      "   macro avg       0.61      0.60      0.60       275\n",
      "weighted avg       0.62      0.60      0.60       275\n",
      "\n"
     ]
    },
    {
     "name": "stderr",
     "output_type": "stream",
     "text": [
      "100%|█████████████████████████████████████████| 300/300 [13:17<00:00,  2.66s/it]\n",
      "100%|█████████████████████████████████████████| 138/138 [01:00<00:00,  2.28it/s]\n"
     ]
    },
    {
     "name": "stdout",
     "output_type": "stream",
     "text": [
      "Epochs: 2 | Train Loss: 0.031 | Train Accuracy: 0.968\n",
      "Val loss: 1.214 | Val Accuracy: 0.593\n",
      "BERT Classifier Accuracy: 0.5927272727272728\n",
      "              precision    recall  f1-score   support\n",
      "\n",
      "           0       0.47      0.83      0.60        42\n",
      "           1       0.73      0.35      0.48        31\n",
      "           2       0.62      0.57      0.59        37\n",
      "           3       0.59      0.36      0.44        28\n",
      "           4       0.68      0.68      0.68        38\n",
      "           5       0.61      0.62      0.61        37\n",
      "           6       0.72      0.68      0.70        31\n",
      "           7       0.55      0.52      0.53        31\n",
      "\n",
      "    accuracy                           0.59       275\n",
      "   macro avg       0.62      0.58      0.58       275\n",
      "weighted avg       0.62      0.59      0.59       275\n",
      "\n"
     ]
    },
    {
     "name": "stderr",
     "output_type": "stream",
     "text": [
      "100%|█████████████████████████████████████████| 300/300 [15:26<00:00,  3.09s/it]\n",
      "100%|█████████████████████████████████████████| 138/138 [00:08<00:00, 16.14it/s]\n"
     ]
    },
    {
     "name": "stdout",
     "output_type": "stream",
     "text": [
      "Epochs: 3 | Train Loss: 0.018 | Train Accuracy: 0.970\n",
      "Val loss: 1.407 | Val Accuracy: 0.593\n",
      "BERT Classifier Accuracy: 0.5927272727272728\n",
      "              precision    recall  f1-score   support\n",
      "\n",
      "           0       0.56      0.60      0.57        42\n",
      "           1       0.50      0.77      0.61        31\n",
      "           2       0.70      0.43      0.53        37\n",
      "           3       0.52      0.61      0.56        28\n",
      "           4       0.86      0.63      0.73        38\n",
      "           5       0.67      0.49      0.56        37\n",
      "           6       0.67      0.77      0.72        31\n",
      "           7       0.43      0.48      0.45        31\n",
      "\n",
      "    accuracy                           0.59       275\n",
      "   macro avg       0.61      0.60      0.59       275\n",
      "weighted avg       0.62      0.59      0.59       275\n",
      "\n"
     ]
    },
    {
     "name": "stderr",
     "output_type": "stream",
     "text": [
      "100%|█████████████████████████████████████████| 300/300 [03:09<00:00,  1.58it/s]\n",
      "100%|█████████████████████████████████████████| 138/138 [00:09<00:00, 14.51it/s]\n"
     ]
    },
    {
     "name": "stdout",
     "output_type": "stream",
     "text": [
      "Epochs: 4 | Train Loss: 0.014 | Train Accuracy: 0.978\n",
      "Val loss: 1.301 | Val Accuracy: 0.622\n",
      "BERT Classifier Accuracy: 0.6218181818181818\n",
      "              precision    recall  f1-score   support\n",
      "\n",
      "           0       0.62      0.69      0.65        42\n",
      "           1       0.70      0.61      0.66        31\n",
      "           2       0.67      0.59      0.63        37\n",
      "           3       0.54      0.54      0.54        28\n",
      "           4       0.76      0.66      0.70        38\n",
      "           5       0.53      0.76      0.62        37\n",
      "           6       0.79      0.48      0.60        31\n",
      "           7       0.51      0.58      0.55        31\n",
      "\n",
      "    accuracy                           0.62       275\n",
      "   macro avg       0.64      0.61      0.62       275\n",
      "weighted avg       0.64      0.62      0.62       275\n",
      "\n",
      "Running for combination:  [0.5, 3e-05, 8, 3]\n"
     ]
    },
    {
     "name": "stderr",
     "output_type": "stream",
     "text": [
      "100%|█████████████████████████████████████████| 150/150 [02:46<00:00,  1.11s/it]\n",
      "100%|█████████████████████████████████████████| 138/138 [00:10<00:00, 12.73it/s]\n"
     ]
    },
    {
     "name": "stdout",
     "output_type": "stream",
     "text": [
      "Epochs: 1 | Train Loss: 0.008 | Train Accuracy: 0.982\n",
      "Val loss: 1.356 | Val Accuracy: 0.607\n",
      "BERT Classifier Accuracy: 0.6072727272727273\n",
      "              precision    recall  f1-score   support\n",
      "\n",
      "           0       0.60      0.69      0.64        42\n",
      "           1       0.59      0.61      0.60        31\n",
      "           2       0.60      0.68      0.63        37\n",
      "           3       0.53      0.57      0.55        28\n",
      "           4       0.78      0.55      0.65        38\n",
      "           5       0.62      0.54      0.58        37\n",
      "           6       0.75      0.58      0.65        31\n",
      "           7       0.47      0.61      0.54        31\n",
      "\n",
      "    accuracy                           0.61       275\n",
      "   macro avg       0.62      0.60      0.61       275\n",
      "weighted avg       0.62      0.61      0.61       275\n",
      "\n"
     ]
    },
    {
     "name": "stderr",
     "output_type": "stream",
     "text": [
      "100%|█████████████████████████████████████████| 150/150 [02:59<00:00,  1.19s/it]\n",
      "100%|█████████████████████████████████████████| 138/138 [00:09<00:00, 13.92it/s]\n"
     ]
    },
    {
     "name": "stdout",
     "output_type": "stream",
     "text": [
      "Epochs: 2 | Train Loss: 0.007 | Train Accuracy: 0.983\n",
      "Val loss: 1.286 | Val Accuracy: 0.589\n",
      "BERT Classifier Accuracy: 0.5890909090909091\n",
      "              precision    recall  f1-score   support\n",
      "\n",
      "           0       0.60      0.67      0.63        42\n",
      "           1       0.59      0.52      0.55        31\n",
      "           2       0.50      0.65      0.56        37\n",
      "           3       0.57      0.43      0.49        28\n",
      "           4       0.69      0.71      0.70        38\n",
      "           5       0.61      0.51      0.56        37\n",
      "           6       0.71      0.65      0.68        31\n",
      "           7       0.47      0.52      0.49        31\n",
      "\n",
      "    accuracy                           0.59       275\n",
      "   macro avg       0.59      0.58      0.58       275\n",
      "weighted avg       0.59      0.59      0.59       275\n",
      "\n"
     ]
    },
    {
     "name": "stderr",
     "output_type": "stream",
     "text": [
      "100%|█████████████████████████████████████████| 150/150 [04:25<00:00,  1.77s/it]\n",
      "100%|█████████████████████████████████████████| 138/138 [00:08<00:00, 15.47it/s]\n"
     ]
    },
    {
     "name": "stdout",
     "output_type": "stream",
     "text": [
      "Epochs: 3 | Train Loss: 0.006 | Train Accuracy: 0.983\n",
      "Val loss: 1.261 | Val Accuracy: 0.611\n",
      "BERT Classifier Accuracy: 0.610909090909091\n",
      "              precision    recall  f1-score   support\n",
      "\n",
      "           0       0.55      0.69      0.61        42\n",
      "           1       0.58      0.48      0.53        31\n",
      "           2       0.52      0.65      0.58        37\n",
      "           3       0.52      0.50      0.51        28\n",
      "           4       0.81      0.66      0.72        38\n",
      "           5       0.61      0.68      0.64        37\n",
      "           6       0.75      0.68      0.71        31\n",
      "           7       0.65      0.48      0.56        31\n",
      "\n",
      "    accuracy                           0.61       275\n",
      "   macro avg       0.62      0.60      0.61       275\n",
      "weighted avg       0.62      0.61      0.61       275\n",
      "\n",
      "Running for combination:  [0.5, 3e-05, 8, 4]\n"
     ]
    },
    {
     "name": "stderr",
     "output_type": "stream",
     "text": [
      "100%|█████████████████████████████████████████| 150/150 [06:21<00:00,  2.54s/it]\n",
      "100%|█████████████████████████████████████████| 138/138 [00:08<00:00, 16.36it/s]\n"
     ]
    },
    {
     "name": "stdout",
     "output_type": "stream",
     "text": [
      "Epochs: 1 | Train Loss: 0.008 | Train Accuracy: 0.978\n",
      "Val loss: 1.283 | Val Accuracy: 0.585\n",
      "BERT Classifier Accuracy: 0.5854545454545454\n",
      "              precision    recall  f1-score   support\n",
      "\n",
      "           0       0.54      0.64      0.59        42\n",
      "           1       0.63      0.71      0.67        31\n",
      "           2       0.56      0.51      0.54        37\n",
      "           3       0.36      0.50      0.42        28\n",
      "           4       0.86      0.63      0.73        38\n",
      "           5       0.67      0.59      0.63        37\n",
      "           6       0.80      0.52      0.63        31\n",
      "           7       0.47      0.55      0.51        31\n",
      "\n",
      "    accuracy                           0.59       275\n",
      "   macro avg       0.61      0.58      0.59       275\n",
      "weighted avg       0.62      0.59      0.59       275\n",
      "\n"
     ]
    },
    {
     "name": "stderr",
     "output_type": "stream",
     "text": [
      "100%|█████████████████████████████████████████| 150/150 [06:10<00:00,  2.47s/it]\n",
      "100%|█████████████████████████████████████████| 138/138 [00:08<00:00, 16.34it/s]\n"
     ]
    },
    {
     "name": "stdout",
     "output_type": "stream",
     "text": [
      "Epochs: 2 | Train Loss: 0.008 | Train Accuracy: 0.979\n",
      "Val loss: 1.290 | Val Accuracy: 0.622\n",
      "BERT Classifier Accuracy: 0.6218181818181818\n",
      "              precision    recall  f1-score   support\n",
      "\n",
      "           0       0.49      0.76      0.60        42\n",
      "           1       0.72      0.58      0.64        31\n",
      "           2       0.74      0.46      0.57        37\n",
      "           3       0.48      0.54      0.51        28\n",
      "           4       0.84      0.68      0.75        38\n",
      "           5       0.79      0.51      0.62        37\n",
      "           6       0.66      0.87      0.75        31\n",
      "           7       0.49      0.55      0.52        31\n",
      "\n",
      "    accuracy                           0.62       275\n",
      "   macro avg       0.65      0.62      0.62       275\n",
      "weighted avg       0.66      0.62      0.62       275\n",
      "\n"
     ]
    },
    {
     "name": "stderr",
     "output_type": "stream",
     "text": [
      "100%|█████████████████████████████████████████| 150/150 [07:03<00:00,  2.82s/it]\n",
      "100%|█████████████████████████████████████████| 138/138 [00:08<00:00, 15.66it/s]\n"
     ]
    },
    {
     "name": "stdout",
     "output_type": "stream",
     "text": [
      "Epochs: 3 | Train Loss: 0.008 | Train Accuracy: 0.980\n",
      "Val loss: 1.053 | Val Accuracy: 0.618\n",
      "BERT Classifier Accuracy: 0.6181818181818182\n",
      "              precision    recall  f1-score   support\n",
      "\n",
      "           0       0.59      0.71      0.65        42\n",
      "           1       0.86      0.58      0.69        31\n",
      "           2       0.58      0.70      0.63        37\n",
      "           3       0.44      0.57      0.50        28\n",
      "           4       0.69      0.71      0.70        38\n",
      "           5       0.70      0.51      0.59        37\n",
      "           6       0.70      0.52      0.59        31\n",
      "           7       0.55      0.58      0.56        31\n",
      "\n",
      "    accuracy                           0.62       275\n",
      "   macro avg       0.64      0.61      0.62       275\n",
      "weighted avg       0.64      0.62      0.62       275\n",
      "\n"
     ]
    },
    {
     "name": "stderr",
     "output_type": "stream",
     "text": [
      "100%|█████████████████████████████████████████| 150/150 [05:02<00:00,  2.01s/it]\n",
      "100%|█████████████████████████████████████████| 138/138 [00:08<00:00, 16.41it/s]"
     ]
    },
    {
     "name": "stdout",
     "output_type": "stream",
     "text": [
      "Epochs: 4 | Train Loss: 0.004 | Train Accuracy: 0.986\n",
      "Val loss: 1.232 | Val Accuracy: 0.629\n",
      "BERT Classifier Accuracy: 0.6290909090909091\n",
      "              precision    recall  f1-score   support\n",
      "\n",
      "           0       0.58      0.60      0.59        42\n",
      "           1       0.60      0.84      0.70        31\n",
      "           2       0.65      0.70      0.68        37\n",
      "           3       0.52      0.54      0.53        28\n",
      "           4       0.73      0.71      0.72        38\n",
      "           5       0.75      0.49      0.59        37\n",
      "           6       0.72      0.58      0.64        31\n",
      "           7       0.53      0.58      0.55        31\n",
      "\n",
      "    accuracy                           0.63       275\n",
      "   macro avg       0.64      0.63      0.62       275\n",
      "weighted avg       0.64      0.63      0.63       275\n",
      "\n"
     ]
    },
    {
     "name": "stderr",
     "output_type": "stream",
     "text": [
      "\n"
     ]
    }
   ],
   "source": [
    "train_losses = []\n",
    "train_accuracies = []\n",
    "val_losses = []\n",
    "val_accuracies = []\n",
    "\n",
    "# Initialize BERT Classifier\n",
    "classifier = BertClassifier(num_classes=len(label_encoder.classes_))\n",
    "\n",
    "\n",
    "num_epochs = 4\n",
    "learning_rates = 2e-5\n",
    "dropout = 0.5\n",
    "batchsize = 4\n",
    "\n",
    "# Train the model\n",
    "# combinations_list = combinations_list[:1]\n",
    "for i in combinations_list:\n",
    "    dropout = i[0]\n",
    "    learning_rates = i[1]\n",
    "    batchsize = i[2]\n",
    "    num_epochs = i[3]\n",
    "    print('Running for combination: ', i)\n",
    "    train_and_evaluate(classifier, train_dataset, test_dataset, learning_rate=learning_rates, epochs=num_epochs, batch_size = batchsize)"
   ]
  },
  {
   "cell_type": "markdown",
   "id": "c8206f43-34a1-4b76-9b24-ba9f783edad6",
   "metadata": {},
   "source": [
    "[0.5, 2e-05, 8, 3] 0.6436"
   ]
  },
  {
   "cell_type": "code",
   "execution_count": null,
   "id": "b18eb811-23d6-4754-921e-61e59ea3e923",
   "metadata": {},
   "outputs": [],
   "source": []
  },
  {
   "cell_type": "code",
   "execution_count": null,
   "id": "fc2eec84-abeb-43d7-8f57-9e02304e4b5a",
   "metadata": {},
   "outputs": [],
   "source": []
  },
  {
   "cell_type": "code",
   "execution_count": null,
   "id": "4f31e4a8-a04f-4861-9582-9eb7df5b524c",
   "metadata": {},
   "outputs": [],
   "source": []
  }
 ],
 "metadata": {
  "kernelspec": {
   "display_name": "Python 3 (ipykernel)",
   "language": "python",
   "name": "python3"
  },
  "language_info": {
   "codemirror_mode": {
    "name": "ipython",
    "version": 3
   },
   "file_extension": ".py",
   "mimetype": "text/x-python",
   "name": "python",
   "nbconvert_exporter": "python",
   "pygments_lexer": "ipython3",
   "version": "3.12.4"
  }
 },
 "nbformat": 4,
 "nbformat_minor": 5
}
